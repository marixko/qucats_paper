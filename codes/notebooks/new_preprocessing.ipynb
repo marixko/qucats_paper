{
 "cells": [
  {
   "cell_type": "code",
   "execution_count": 10,
   "metadata": {},
   "outputs": [
    {
     "name": "stdout",
     "output_type": "stream",
     "text": [
      "The autoreload extension is already loaded. To reload it, use:\n",
      "  %reload_ext autoreload\n"
     ]
    }
   ],
   "source": [
    "from pathlib import Path\n",
    "import os\n",
    "import sys\n",
    "if str(Path.cwd().parent) not in sys.path:\n",
    "    sys.path.append(str(Path.cwd().parent))\n",
    "from utils.crossvalidation import xval\n",
    "from settings.paths import match_path, img_path, rf_path, bnn_path, flex_path, data_path\n",
    "import pandas as pd\n",
    "import matplotlib.pyplot as plt\n",
    "from utils.preprocessing import create_bins, prep_data, rename_aper\n",
    "from settings.columns import specz, calculate_colors, create_colors, list_feat\n",
    "from utils.metrics import nmad, bias ,out_frac, rmse, mse\n",
    "import warnings\n",
    "import numpy as np\n",
    "from utils.metrics import nmad, out_frac, bias, rmse\n",
    "from sklearn.ensemble import RandomForestRegressor\n",
    "from sklearn.model_selection import train_test_split\n",
    "from sklearn.model_selection import StratifiedKFold\n",
    "from cycler import cycler\n",
    "from sklearn.model_selection import GridSearchCV\n",
    "from utils.preprocessing import create_bins\n",
    "from utils.crossvalidation import metric_per_bin\n",
    "from utils.preprocessing import create_bins, rename_aper, mag_redshift_selection, prep_wise, missing_input, flag_observation\n",
    "\n",
    "plt.rcParams[\"font.size\"] = 22\n",
    "blue = (0, 0.48, 0.70)\n",
    "orange = (230/255,159/255, 0)\n",
    "yellow = (0.94, 0.89, 0.26)\n",
    "pink = (0.8, 0.47, 0.65)\n",
    "CB_color_cycle = ['#377eb8', '#ff7f00', '#4daf4a',\n",
    "                  '#f781bf', '#a65628', '#984ea3',\n",
    "                  '#999999', '#e41a1c', '#dede00']\n",
    "plt.rcParams['axes.prop_cycle'] = cycler('color', CB_color_cycle)\n",
    "\n",
    "warnings.filterwarnings(\"ignore\")\n",
    "%load_ext autoreload\n",
    "%autoreload 2"
   ]
  },
  {
   "cell_type": "code",
   "execution_count": 2,
   "metadata": {},
   "outputs": [],
   "source": [
    "from utils.correct_extinction import correction\n",
    "aper = \"PStotal\""
   ]
  },
  {
   "cell_type": "code",
   "execution_count": null,
   "metadata": {},
   "outputs": [],
   "source": [
    "table_dr2 = pd.read_table(os.path.join(match_path,\"STRIPE82_DR2_DR16Q1a_unWISE2a_GALEXDR672a.csv\"), sep=\",\")\n",
    "table_dr2 = rename_aper(table_dr2)"
   ]
  },
  {
   "cell_type": "code",
   "execution_count": 3,
   "metadata": {},
   "outputs": [],
   "source": [
    "table_dr4 = pd.read_table(os.path.join(match_path,\"STRIPE82_DR4_DR16Q1a_unWISE2a_GALEXDR672a.csv\"), sep=\",\")\n",
    "table_dr4 = rename_aper(table_dr4)"
   ]
  },
  {
   "cell_type": "code",
   "execution_count": 4,
   "metadata": {},
   "outputs": [
    {
     "data": {
      "text/plain": [
       "37978"
      ]
     },
     "execution_count": 4,
     "metadata": {},
     "output_type": "execute_result"
    }
   ],
   "source": [
    "len(table_dr4)"
   ]
  },
  {
   "cell_type": "code",
   "execution_count": 4,
   "metadata": {},
   "outputs": [],
   "source": [
    "feat_mag = list_feat(aper=aper, broad = True, narrow = True, galex = True, wise = True)\n",
    "feat = create_colors(broad = True, narrow=True, wise=True, galex=True, aper=aper)\n",
    "# data = table_corrected.copy(deep=True)"
   ]
  },
  {
   "cell_type": "code",
   "execution_count": 5,
   "metadata": {},
   "outputs": [],
   "source": [
    "data = mag_redshift_selection(table_dr4, rmax=22, zmax=5)"
   ]
  },
  {
   "cell_type": "code",
   "execution_count": 6,
   "metadata": {},
   "outputs": [],
   "source": [
    "data = prep_wise(data)\n"
   ]
  },
  {
   "cell_type": "code",
   "execution_count": 7,
   "metadata": {},
   "outputs": [],
   "source": [
    "data = flag_observation(data)"
   ]
  },
  {
   "cell_type": "code",
   "execution_count": 8,
   "metadata": {},
   "outputs": [],
   "source": [
    "data = correction(data)"
   ]
  },
  {
   "cell_type": "code",
   "execution_count": 9,
   "metadata": {},
   "outputs": [],
   "source": [
    "data = missing_input(data)\n"
   ]
  },
  {
   "cell_type": "code",
   "execution_count": 42,
   "metadata": {},
   "outputs": [],
   "source": [
    "data = calculate_colors(data, broad = True, narrow= True, wise = True, galex= True, aper=aper)\n",
    "data, bins, itvs = create_bins(data = data, bin_size=0.5, return_data = True, var = specz)"
   ]
  },
  {
   "cell_type": "code",
   "execution_count": 79,
   "metadata": {},
   "outputs": [],
   "source": [
    "list_ids = sample[\"ID_1\"].apply(lambda x: x.split(\" \")[0].split(\"-\")[-1])"
   ]
  },
  {
   "cell_type": "code",
   "execution_count": 72,
   "metadata": {},
   "outputs": [
    {
     "name": "stdout",
     "output_type": "stream",
     "text": [
      "[True, True, True, True, True, True, True, True, True]\n"
     ]
    }
   ],
   "source": [
    "# Did two steps of train_test_split just to ensure that some specific targets (9) are in the test set\n",
    "# These 9 targets were originally used to plot some PDFs in thr first draft of the paper\n",
    "\n",
    "# sample = pd.read_csv(os.path.join(data_path, \"sample_plot_paper_9.txt\"), delim_whitespace=True)\n",
    "# list_ids = sample[\"ID_1\"].apply(lambda x: x.split(\" \")[0].split(\"-\")[-1])\n",
    "# check=False\n",
    "# k=0\n",
    "# while check==False:\n",
    "#     train, test = train_test_split(data, test_size=0.5, random_state=823, stratify=data['Zclass'])\n",
    "#     train2, test2 = train_test_split(test, test_size=0.5, random_state=124, stratify=test['Zclass'])\n",
    "#     list_ids_test = test2[\"ID\"].apply(lambda x: x.split(\" \")[0].split(\"-\")[-1])\n",
    "#     compare = [True if i in list_ids_test.values else False for i in list_ids.values]\n",
    "#     print(compare)\n",
    "#     check = all(compare)\n",
    "#     k+=1"
   ]
  },
  {
   "cell_type": "code",
   "execution_count": 78,
   "metadata": {},
   "outputs": [],
   "source": [
    "split1, split2 = train_test_split(data, test_size=0.5, random_state=823, stratify=data['Zclass'])\n",
    "split3, test = train_test_split(split2, test_size=0.5, random_state=124, stratify=split2['Zclass'])\n",
    "\n",
    "train = pd.concat([split1, split2, split3])"
   ]
  },
  {
   "cell_type": "code",
   "execution_count": 81,
   "metadata": {},
   "outputs": [],
   "source": [
    "# list_ids_test = test[\"ID\"].apply(lambda x: x.split(\" \")[0].split(\"-\")[-1])\n",
    "# compare = [True if i in list_ids_test.values else False for i in list_ids.values]"
   ]
  },
  {
   "cell_type": "code",
   "execution_count": 11,
   "metadata": {},
   "outputs": [],
   "source": [
    "# train, test = train_test_split(data, random_state=22, stratify=data['Zclass'])\n",
    "zclass_train = train[\"Zclass\"]"
   ]
  },
  {
   "cell_type": "code",
   "execution_count": null,
   "metadata": {},
   "outputs": [],
   "source": [
    "# Trying to find the random_state where the testing set contains the 9 objects from sample_plot_paper.txt\n"
   ]
  },
  {
   "cell_type": "code",
   "execution_count": 12,
   "metadata": {},
   "outputs": [
    {
     "data": {
      "text/plain": [
       "count    24863.000000\n",
       "mean         1.650779\n",
       "std          0.743512\n",
       "min          0.034357\n",
       "25%          1.098107\n",
       "50%          1.574127\n",
       "75%          2.120000\n",
       "max          4.920000\n",
       "Name: Z, dtype: float64"
      ]
     },
     "execution_count": 12,
     "metadata": {},
     "output_type": "execute_result"
    }
   ],
   "source": [
    "train.Z.describe().T"
   ]
  },
  {
   "cell_type": "code",
   "execution_count": 13,
   "metadata": {},
   "outputs": [
    {
     "data": {
      "text/plain": [
       "count    8288.000000\n",
       "mean        1.653930\n",
       "std         0.740635\n",
       "min         0.060000\n",
       "25%         1.097735\n",
       "50%         1.574966\n",
       "75%         2.119848\n",
       "max         4.859451\n",
       "Name: Z, dtype: float64"
      ]
     },
     "execution_count": 13,
     "metadata": {},
     "output_type": "execute_result"
    }
   ],
   "source": [
    "test.Z.describe().T"
   ]
  },
  {
   "cell_type": "code",
   "execution_count": 14,
   "metadata": {},
   "outputs": [
    {
     "data": {
      "text/plain": [
       "0    31146\n",
       "1     2005\n",
       "Name: flag_WISE, dtype: int64"
      ]
     },
     "execution_count": 14,
     "metadata": {},
     "output_type": "execute_result"
    }
   ],
   "source": [
    "data.flag_WISE.value_counts()"
   ]
  },
  {
   "cell_type": "code",
   "execution_count": 15,
   "metadata": {},
   "outputs": [],
   "source": [
    "def fraction_of_non_observation(df, survey=\"WISE\"):\n",
    "    if survey==\"WISE\":\n",
    "        print(len(df[df[\"objID_x\"].isna()])/len(df))\n",
    "        return \n",
    "    \n",
    "    if survey==\"GALEX\":\n",
    "        print(len(df[df[\"name\"].isna()])/len(df))\n",
    "        return \n",
    "    \n",
    "def fraction_of_non_detection(df, survey=\"WISE\"):\n",
    "    if survey==\"WISE\":\n",
    "        print(\"W1:\", len(df[df[\"W1\"].isna()])/len(df))\n",
    "        print(\"W2:\", len(df[df[\"W2\"].isna()])/len(df))\n",
    "        return \n",
    "    \n",
    "    if survey==\"GALEX\":\n",
    "        print(\"FUV:\", len(df[df[\"FUVmag\"].isna()].dropna(subset=[\"name\"]))/len(df.dropna(subset=[\"name\"])))\n",
    "        print(\"NUV:\", len(df[df[\"NUVmag\"].isna()].dropna(subset=[\"name\"]))/len(df.dropna(subset=[\"name\"])))\n",
    "        return"
   ]
  },
  {
   "cell_type": "code",
   "execution_count": 73,
   "metadata": {},
   "outputs": [
    {
     "data": {
      "text/plain": [
       "2005"
      ]
     },
     "execution_count": 73,
     "metadata": {},
     "output_type": "execute_result"
    }
   ],
   "source": [
    "#number of objects with non-observation in GALEX\n",
    "len(data[data[\"name\"].isna()])\n",
    "\n",
    "#number of objects with non-observation in WISE\n",
    "len(data[data[\"objID_x\"].isna()])"
   ]
  },
  {
   "cell_type": "code",
   "execution_count": 192,
   "metadata": {},
   "outputs": [
    {
     "name": "stdout",
     "output_type": "stream",
     "text": [
      "0.060480830140870565\n",
      "0.060129509713228495\n",
      "0.06153474903474904\n"
     ]
    }
   ],
   "source": [
    "fraction_of_non_observation(data, survey=\"WISE\")\n",
    "fraction_of_non_observation(train, survey=\"WISE\")\n",
    "fraction_of_non_observation(test, survey=\"WISE\")"
   ]
  },
  {
   "cell_type": "code",
   "execution_count": 193,
   "metadata": {},
   "outputs": [
    {
     "name": "stdout",
     "output_type": "stream",
     "text": [
      "0.6919851588187385\n",
      "0.6918312351687246\n",
      "0.6924469111969112\n"
     ]
    }
   ],
   "source": [
    "fraction_of_non_observation(data, survey=\"GALEX\")\n",
    "fraction_of_non_observation(train, survey=\"GALEX\")\n",
    "fraction_of_non_observation(test, survey=\"GALEX\")"
   ]
  },
  {
   "cell_type": "code",
   "execution_count": 194,
   "metadata": {},
   "outputs": [
    {
     "name": "stdout",
     "output_type": "stream",
     "text": [
      "W1: 0.06922868088443787\n",
      "W2: 0.14132303701245816\n",
      "W1: 0.06901821984474922\n",
      "W2: 0.14097252946144873\n",
      "W1: 0.06986003861003862\n",
      "W2: 0.14237451737451737\n"
     ]
    }
   ],
   "source": [
    "fraction_of_non_detection(data, survey=\"WISE\")\n",
    "fraction_of_non_detection(train, survey=\"WISE\")\n",
    "fraction_of_non_detection(test, survey=\"WISE\")"
   ]
  },
  {
   "cell_type": "code",
   "execution_count": 195,
   "metadata": {},
   "outputs": [
    {
     "name": "stdout",
     "output_type": "stream",
     "text": [
      "FUV: 0.6410733522671629\n",
      "NUV: 0.0\n",
      "FUV: 0.6378230227094753\n",
      "NUV: 0.0\n",
      "FUV: 0.6508434680266771\n",
      "NUV: 0.0\n"
     ]
    }
   ],
   "source": [
    "fraction_of_non_detection(data, survey=\"GALEX\")\n",
    "fraction_of_non_detection(train, survey=\"GALEX\")\n",
    "fraction_of_non_detection(test, survey=\"GALEX\")"
   ]
  },
  {
   "cell_type": "code",
   "execution_count": 16,
   "metadata": {},
   "outputs": [],
   "source": [
    "flags = [\"flag_WISE\", \"flag_GALEX\"]"
   ]
  },
  {
   "cell_type": "code",
   "execution_count": 17,
   "metadata": {},
   "outputs": [],
   "source": [
    "feat = {}\n",
    "feat[\"broad\"] =  create_colors(broad = True, narrow=False, wise=False, galex=False, aper=aper)\n",
    "feat[\"broad\"] = feat[\"broad\"]+flags\n",
    "feat[\"broad+narrow\"]=  create_colors(broad = True, narrow=True, wise=False, galex=False, aper=aper)\n",
    "feat[\"broad+narrow\"]=   feat[\"broad+narrow\"]+flags\n",
    "\n",
    "feat[\"broad+GALEX+WISE\"]=  create_colors(broad = True, narrow=False, wise=True, galex=True, aper=aper)\n",
    "feat[\"broad+GALEX+WISE\"]=  feat[\"broad+GALEX+WISE\"]+flags\n",
    "\n",
    "\n",
    "feat[\"broad+WISE+narrow\"]=  create_colors(broad = True, narrow=True, wise=False, galex=True, aper=aper)\n",
    "feat[\"broad+WISE+narrow\"]=  feat[\"broad+WISE+narrow\"]+[\"flag_WISE\"]\n",
    "\n",
    "\n",
    "feat[\"broad+GALEX+WISE+narrow\"]=  create_colors(broad = True, narrow=True, wise=True, galex=True, aper=aper)\n",
    "feat[\"broad+GALEX+WISE+narrow\"]=  feat[\"broad+GALEX+WISE+narrow\"]+flags"
   ]
  },
  {
   "cell_type": "code",
   "execution_count": 18,
   "metadata": {},
   "outputs": [],
   "source": [
    "color_feat = {}\n",
    "color_feat[\"broad\"] = \"#377eb8\"\n",
    "color_feat[\"broad+narrow\"] =  \"#ff7f00\"\n",
    "color_feat[\"broad+GALEX+WISE\"]= \"#4daf4a\"\n",
    "color_feat[\"broad+GALEX+WISE+narrow\"]= \"#f781bf\"\n"
   ]
  },
  {
   "cell_type": "code",
   "execution_count": 19,
   "metadata": {},
   "outputs": [
    {
     "ename": "KeyboardInterrupt",
     "evalue": "",
     "output_type": "error",
     "traceback": [
      "\u001b[0;31m---------------------------------------------------------------------------\u001b[0m",
      "\u001b[0;31mKeyboardInterrupt\u001b[0m                         Traceback (most recent call last)",
      "\u001b[0;32m/tmp/ipykernel_25168/2485479320.py\u001b[0m in \u001b[0;36m<module>\u001b[0;34m\u001b[0m\n\u001b[1;32m      1\u001b[0m \u001b[0mz\u001b[0m\u001b[0;34m=\u001b[0m\u001b[0;34m{\u001b[0m\u001b[0;34m}\u001b[0m\u001b[0;34m\u001b[0m\u001b[0;34m\u001b[0m\u001b[0m\n\u001b[0;32m----> 2\u001b[0;31m \u001b[0mz\u001b[0m\u001b[0;34m[\u001b[0m\u001b[0;34m\"broad+WISE+narrow\"\u001b[0m\u001b[0;34m]\u001b[0m \u001b[0;34m=\u001b[0m \u001b[0mxval\u001b[0m\u001b[0;34m(\u001b[0m\u001b[0mtrain\u001b[0m\u001b[0;34m,\u001b[0m \u001b[0mzclass_train\u001b[0m \u001b[0;34m,\u001b[0m \u001b[0mfeat\u001b[0m\u001b[0;34m[\u001b[0m\u001b[0;34m\"broad+WISE+narrow\"\u001b[0m\u001b[0;34m]\u001b[0m\u001b[0;34m,\u001b[0m\u001b[0;34m\"broad+WISE+narrow\"\u001b[0m\u001b[0;34m,\u001b[0m \u001b[0maper\u001b[0m\u001b[0;34m=\u001b[0m\u001b[0maper\u001b[0m\u001b[0;34m,\u001b[0m \u001b[0msave_data\u001b[0m\u001b[0;34m=\u001b[0m\u001b[0;32mTrue\u001b[0m\u001b[0;34m,\u001b[0m \u001b[0msave_model\u001b[0m\u001b[0;34m=\u001b[0m\u001b[0;32mFalse\u001b[0m\u001b[0;34m,\u001b[0m \u001b[0msave_result\u001b[0m\u001b[0;34m=\u001b[0m\u001b[0;32mFalse\u001b[0m\u001b[0;34m)\u001b[0m\u001b[0;34m\u001b[0m\u001b[0;34m\u001b[0m\u001b[0m\n\u001b[0m",
      "\u001b[0;32m~/Research/Projects/qucats_paper/codes/utils/crossvalidation.py\u001b[0m in \u001b[0;36mxval\u001b[0;34m(train, zclass_train, feat, filename, aper, save_data, save_model, save_result)\u001b[0m\n\u001b[1;32m     63\u001b[0m         \u001b[0mmodel\u001b[0m \u001b[0;34m=\u001b[0m \u001b[0mRandomForestRegressor\u001b[0m\u001b[0;34m(\u001b[0m\u001b[0mrandom_state\u001b[0m \u001b[0;34m=\u001b[0m \u001b[0;36m47\u001b[0m\u001b[0;34m,\u001b[0m \u001b[0mbootstrap\u001b[0m\u001b[0;34m=\u001b[0m \u001b[0;32mTrue\u001b[0m\u001b[0;34m,\u001b[0m \u001b[0mmax_depth\u001b[0m\u001b[0;34m=\u001b[0m \u001b[0;36m20\u001b[0m\u001b[0;34m,\u001b[0m \u001b[0mmin_samples_leaf\u001b[0m\u001b[0;34m=\u001b[0m \u001b[0;36m2\u001b[0m\u001b[0;34m,\u001b[0m \u001b[0mmin_samples_split\u001b[0m\u001b[0;34m=\u001b[0m \u001b[0;36m2\u001b[0m\u001b[0;34m,\u001b[0m \u001b[0mn_estimators\u001b[0m\u001b[0;34m=\u001b[0m \u001b[0;36m400\u001b[0m\u001b[0;34m)\u001b[0m\u001b[0;34m\u001b[0m\u001b[0;34m\u001b[0m\u001b[0m\n\u001b[1;32m     64\u001b[0m         \u001b[0;31m# model = RandomForestRegressor(random_state = 47)\u001b[0m\u001b[0;34m\u001b[0m\u001b[0;34m\u001b[0m\u001b[0;34m\u001b[0m\u001b[0m\n\u001b[0;32m---> 65\u001b[0;31m         \u001b[0mmodel\u001b[0m\u001b[0;34m.\u001b[0m\u001b[0mfit\u001b[0m\u001b[0;34m(\u001b[0m\u001b[0mmag_train_cv\u001b[0m\u001b[0;34m[\u001b[0m\u001b[0mfold\u001b[0m\u001b[0;34m]\u001b[0m\u001b[0;34m[\u001b[0m\u001b[0mfeat\u001b[0m\u001b[0;34m]\u001b[0m\u001b[0;34m,\u001b[0m \u001b[0mz_train_cv\u001b[0m\u001b[0;34m[\u001b[0m\u001b[0mfold\u001b[0m\u001b[0;34m]\u001b[0m\u001b[0;34m)\u001b[0m\u001b[0;34m\u001b[0m\u001b[0;34m\u001b[0m\u001b[0m\n\u001b[0m\u001b[1;32m     66\u001b[0m         \u001b[0;32mif\u001b[0m \u001b[0msave_model\u001b[0m\u001b[0;34m:\u001b[0m\u001b[0;34m\u001b[0m\u001b[0;34m\u001b[0m\u001b[0m\n\u001b[1;32m     67\u001b[0m             \u001b[0mfile\u001b[0m \u001b[0;34m=\u001b[0m \u001b[0mos\u001b[0m\u001b[0;34m.\u001b[0m\u001b[0mpath\u001b[0m\u001b[0;34m.\u001b[0m\u001b[0mjoin\u001b[0m\u001b[0;34m(\u001b[0m\u001b[0mrf_path\u001b[0m\u001b[0;34m,\u001b[0m\u001b[0;34m'RF_'\u001b[0m\u001b[0;34m+\u001b[0m\u001b[0mfilename\u001b[0m\u001b[0;34m+\u001b[0m\u001b[0;34m'fold_'\u001b[0m\u001b[0;34m+\u001b[0m\u001b[0mstr\u001b[0m\u001b[0;34m(\u001b[0m\u001b[0mi\u001b[0m\u001b[0;34m)\u001b[0m\u001b[0;34m+\u001b[0m\u001b[0;34m'.sav'\u001b[0m\u001b[0;34m)\u001b[0m\u001b[0;34m\u001b[0m\u001b[0;34m\u001b[0m\u001b[0m\n",
      "\u001b[0;32m~/anaconda3/envs/research/lib/python3.9/site-packages/sklearn/ensemble/_forest.py\u001b[0m in \u001b[0;36mfit\u001b[0;34m(self, X, y, sample_weight)\u001b[0m\n\u001b[1;32m    375\u001b[0m                 \u001b[0mrandom_state\u001b[0m\u001b[0;34m.\u001b[0m\u001b[0mrandint\u001b[0m\u001b[0;34m(\u001b[0m\u001b[0mMAX_INT\u001b[0m\u001b[0;34m,\u001b[0m \u001b[0msize\u001b[0m\u001b[0;34m=\u001b[0m\u001b[0mlen\u001b[0m\u001b[0;34m(\u001b[0m\u001b[0mself\u001b[0m\u001b[0;34m.\u001b[0m\u001b[0mestimators_\u001b[0m\u001b[0;34m)\u001b[0m\u001b[0;34m)\u001b[0m\u001b[0;34m\u001b[0m\u001b[0;34m\u001b[0m\u001b[0m\n\u001b[1;32m    376\u001b[0m \u001b[0;34m\u001b[0m\u001b[0m\n\u001b[0;32m--> 377\u001b[0;31m             trees = [self._make_estimator(append=False,\n\u001b[0m\u001b[1;32m    378\u001b[0m                                           random_state=random_state)\n\u001b[1;32m    379\u001b[0m                      for i in range(n_more_estimators)]\n",
      "\u001b[0;32m~/anaconda3/envs/research/lib/python3.9/site-packages/sklearn/ensemble/_forest.py\u001b[0m in \u001b[0;36m<listcomp>\u001b[0;34m(.0)\u001b[0m\n\u001b[1;32m    375\u001b[0m                 \u001b[0mrandom_state\u001b[0m\u001b[0;34m.\u001b[0m\u001b[0mrandint\u001b[0m\u001b[0;34m(\u001b[0m\u001b[0mMAX_INT\u001b[0m\u001b[0;34m,\u001b[0m \u001b[0msize\u001b[0m\u001b[0;34m=\u001b[0m\u001b[0mlen\u001b[0m\u001b[0;34m(\u001b[0m\u001b[0mself\u001b[0m\u001b[0;34m.\u001b[0m\u001b[0mestimators_\u001b[0m\u001b[0;34m)\u001b[0m\u001b[0;34m)\u001b[0m\u001b[0;34m\u001b[0m\u001b[0;34m\u001b[0m\u001b[0m\n\u001b[1;32m    376\u001b[0m \u001b[0;34m\u001b[0m\u001b[0m\n\u001b[0;32m--> 377\u001b[0;31m             trees = [self._make_estimator(append=False,\n\u001b[0m\u001b[1;32m    378\u001b[0m                                           random_state=random_state)\n\u001b[1;32m    379\u001b[0m                      for i in range(n_more_estimators)]\n",
      "\u001b[0;32m~/anaconda3/envs/research/lib/python3.9/site-packages/sklearn/ensemble/_base.py\u001b[0m in \u001b[0;36m_make_estimator\u001b[0;34m(self, append, random_state)\u001b[0m\n\u001b[1;32m    149\u001b[0m         \"\"\"\n\u001b[1;32m    150\u001b[0m         \u001b[0mestimator\u001b[0m \u001b[0;34m=\u001b[0m \u001b[0mclone\u001b[0m\u001b[0;34m(\u001b[0m\u001b[0mself\u001b[0m\u001b[0;34m.\u001b[0m\u001b[0mbase_estimator_\u001b[0m\u001b[0;34m)\u001b[0m\u001b[0;34m\u001b[0m\u001b[0;34m\u001b[0m\u001b[0m\n\u001b[0;32m--> 151\u001b[0;31m         estimator.set_params(**{p: getattr(self, p)\n\u001b[0m\u001b[1;32m    152\u001b[0m                                 for p in self.estimator_params})\n\u001b[1;32m    153\u001b[0m \u001b[0;34m\u001b[0m\u001b[0m\n",
      "\u001b[0;32m~/anaconda3/envs/research/lib/python3.9/site-packages/sklearn/base.py\u001b[0m in \u001b[0;36mset_params\u001b[0;34m(self, **params)\u001b[0m\n\u001b[1;32m    222\u001b[0m             \u001b[0;31m# Simple optimization to gain speed (inspect is slow)\u001b[0m\u001b[0;34m\u001b[0m\u001b[0;34m\u001b[0m\u001b[0;34m\u001b[0m\u001b[0m\n\u001b[1;32m    223\u001b[0m             \u001b[0;32mreturn\u001b[0m \u001b[0mself\u001b[0m\u001b[0;34m\u001b[0m\u001b[0;34m\u001b[0m\u001b[0m\n\u001b[0;32m--> 224\u001b[0;31m         \u001b[0mvalid_params\u001b[0m \u001b[0;34m=\u001b[0m \u001b[0mself\u001b[0m\u001b[0;34m.\u001b[0m\u001b[0mget_params\u001b[0m\u001b[0;34m(\u001b[0m\u001b[0mdeep\u001b[0m\u001b[0;34m=\u001b[0m\u001b[0;32mTrue\u001b[0m\u001b[0;34m)\u001b[0m\u001b[0;34m\u001b[0m\u001b[0;34m\u001b[0m\u001b[0m\n\u001b[0m\u001b[1;32m    225\u001b[0m \u001b[0;34m\u001b[0m\u001b[0m\n\u001b[1;32m    226\u001b[0m         \u001b[0mnested_params\u001b[0m \u001b[0;34m=\u001b[0m \u001b[0mdefaultdict\u001b[0m\u001b[0;34m(\u001b[0m\u001b[0mdict\u001b[0m\u001b[0;34m)\u001b[0m  \u001b[0;31m# grouped by prefix\u001b[0m\u001b[0;34m\u001b[0m\u001b[0;34m\u001b[0m\u001b[0m\n",
      "\u001b[0;32m~/anaconda3/envs/research/lib/python3.9/site-packages/sklearn/base.py\u001b[0m in \u001b[0;36mget_params\u001b[0;34m(self, deep)\u001b[0m\n\u001b[1;32m    192\u001b[0m         \"\"\"\n\u001b[1;32m    193\u001b[0m         \u001b[0mout\u001b[0m \u001b[0;34m=\u001b[0m \u001b[0mdict\u001b[0m\u001b[0;34m(\u001b[0m\u001b[0;34m)\u001b[0m\u001b[0;34m\u001b[0m\u001b[0;34m\u001b[0m\u001b[0m\n\u001b[0;32m--> 194\u001b[0;31m         \u001b[0;32mfor\u001b[0m \u001b[0mkey\u001b[0m \u001b[0;32min\u001b[0m \u001b[0mself\u001b[0m\u001b[0;34m.\u001b[0m\u001b[0m_get_param_names\u001b[0m\u001b[0;34m(\u001b[0m\u001b[0;34m)\u001b[0m\u001b[0;34m:\u001b[0m\u001b[0;34m\u001b[0m\u001b[0;34m\u001b[0m\u001b[0m\n\u001b[0m\u001b[1;32m    195\u001b[0m             \u001b[0mvalue\u001b[0m \u001b[0;34m=\u001b[0m \u001b[0mgetattr\u001b[0m\u001b[0;34m(\u001b[0m\u001b[0mself\u001b[0m\u001b[0;34m,\u001b[0m \u001b[0mkey\u001b[0m\u001b[0;34m)\u001b[0m\u001b[0;34m\u001b[0m\u001b[0;34m\u001b[0m\u001b[0m\n\u001b[1;32m    196\u001b[0m             \u001b[0;32mif\u001b[0m \u001b[0mdeep\u001b[0m \u001b[0;32mand\u001b[0m \u001b[0mhasattr\u001b[0m\u001b[0;34m(\u001b[0m\u001b[0mvalue\u001b[0m\u001b[0;34m,\u001b[0m \u001b[0;34m'get_params'\u001b[0m\u001b[0;34m)\u001b[0m\u001b[0;34m:\u001b[0m\u001b[0;34m\u001b[0m\u001b[0;34m\u001b[0m\u001b[0m\n",
      "\u001b[0;32m~/anaconda3/envs/research/lib/python3.9/site-packages/sklearn/base.py\u001b[0m in \u001b[0;36m_get_param_names\u001b[0;34m(cls)\u001b[0m\n\u001b[1;32m    155\u001b[0m         \u001b[0;31m# deprecation wrapping if any\u001b[0m\u001b[0;34m\u001b[0m\u001b[0;34m\u001b[0m\u001b[0;34m\u001b[0m\u001b[0m\n\u001b[1;32m    156\u001b[0m         \u001b[0minit\u001b[0m \u001b[0;34m=\u001b[0m \u001b[0mgetattr\u001b[0m\u001b[0;34m(\u001b[0m\u001b[0mcls\u001b[0m\u001b[0;34m.\u001b[0m\u001b[0m__init__\u001b[0m\u001b[0;34m,\u001b[0m \u001b[0;34m'deprecated_original'\u001b[0m\u001b[0;34m,\u001b[0m \u001b[0mcls\u001b[0m\u001b[0;34m.\u001b[0m\u001b[0m__init__\u001b[0m\u001b[0;34m)\u001b[0m\u001b[0;34m\u001b[0m\u001b[0;34m\u001b[0m\u001b[0m\n\u001b[0;32m--> 157\u001b[0;31m         \u001b[0;32mif\u001b[0m \u001b[0minit\u001b[0m \u001b[0;32mis\u001b[0m \u001b[0mobject\u001b[0m\u001b[0;34m.\u001b[0m\u001b[0m__init__\u001b[0m\u001b[0;34m:\u001b[0m\u001b[0;34m\u001b[0m\u001b[0;34m\u001b[0m\u001b[0m\n\u001b[0m\u001b[1;32m    158\u001b[0m             \u001b[0;31m# No explicit constructor to introspect\u001b[0m\u001b[0;34m\u001b[0m\u001b[0;34m\u001b[0m\u001b[0;34m\u001b[0m\u001b[0m\n\u001b[1;32m    159\u001b[0m             \u001b[0;32mreturn\u001b[0m \u001b[0;34m[\u001b[0m\u001b[0;34m]\u001b[0m\u001b[0;34m\u001b[0m\u001b[0;34m\u001b[0m\u001b[0m\n",
      "\u001b[0;31mKeyboardInterrupt\u001b[0m: "
     ]
    }
   ],
   "source": [
    "z={}\n",
    "z[\"broad+WISE+narrow\"] = xval(train, zclass_train , feat[\"broad+WISE+narrow\"],\"broad+WISE+narrow\", aper=aper, save_data=True, save_model=False, save_result=False)"
   ]
  },
  {
   "cell_type": "code",
   "execution_count": null,
   "metadata": {},
   "outputs": [],
   "source": [
    "from settings.paths import validation_path\n",
    "test.index.name = 'index'\n",
    "test.to_csv(os.path.join(validation_path, \"test_new.csv\"))"
   ]
  },
  {
   "cell_type": "code",
   "execution_count": 61,
   "metadata": {},
   "outputs": [
    {
     "name": "stdout",
     "output_type": "stream",
     "text": [
      "broad\n",
      "broad+narrow\n",
      "broad+GALEX+WISE\n",
      "broad+WISE+narrow\n",
      "broad+GALEX+WISE+narrow\n"
     ]
    }
   ],
   "source": [
    "\n",
    "for key, value in feat.items():\n",
    "    print(key)\n",
    "    z[key] = xval(train, zclass_train , feat[key], key, aper=aper, save_model=False, save_result=False)\n"
   ]
  },
  {
   "cell_type": "code",
   "execution_count": 62,
   "metadata": {},
   "outputs": [
    {
     "name": "stdout",
     "output_type": "stream",
     "text": [
      "broad\n",
      "RMSE 0.5877 0.0029\n",
      "NMAD 0.1835 0.0015\n",
      "bias -0.0012 0.0052\n",
      "n15 0.4274 0.0067\n",
      "n30 0.1643 0.0016\n",
      "broad+narrow\n",
      "RMSE 0.5371 0.0026\n",
      "NMAD 0.1543 0.0027\n",
      "bias -0.0014 0.006\n",
      "n15 0.3731 0.0042\n",
      "n30 0.1372 0.002\n",
      "broad+GALEX+WISE\n",
      "RMSE 0.4248 0.0056\n",
      "NMAD 0.1016 0.0014\n",
      "bias 0.0016 0.0036\n",
      "n15 0.2264 0.0049\n",
      "n30 0.0627 0.0021\n",
      "broad+WISE+narrow\n",
      "RMSE 0.5255 0.0037\n",
      "NMAD 0.1424 0.0033\n",
      "bias -0.0029 0.0066\n",
      "n15 0.3548 0.0034\n",
      "n30 0.1271 0.0037\n",
      "broad+GALEX+WISE+narrow\n",
      "RMSE 0.4096 0.0067\n",
      "NMAD 0.0917 0.0013\n",
      "bias -0.0007 0.0036\n",
      "n15 0.2163 0.0057\n",
      "n30 0.0615 0.0023\n"
     ]
    }
   ],
   "source": [
    "for key, value in feat.items():\n",
    "    print(key)\n",
    "    rmse_list = []\n",
    "    sigma_list = []\n",
    "    bias_list = []\n",
    "    n30_list = []\n",
    "    n15_list = []\n",
    "    for fold in z[key].fold.unique():\n",
    "        rmse_list.append(rmse(z[key][z[key][\"fold\"]==fold].z_pred, z[key][z[key][\"fold\"]==fold].Z))\n",
    "        sigma_list.append(nmad(z[key][z[key][\"fold\"]==fold].z_pred, z[key][z[key][\"fold\"]==fold].Z))\n",
    "        bias_list.append(bias(z[key][z[key][\"fold\"]==fold].z_pred, z[key][z[key][\"fold\"]==fold].Z))\n",
    "        n30_list.append(out_frac(z[key][z[key][\"fold\"]==fold].z_pred, z[key][z[key][\"fold\"]==fold].Z, 0.3))\n",
    "        n15_list.append(out_frac(z[key][z[key][\"fold\"]==fold].z_pred, z[key][z[key][\"fold\"]==fold].Z, 0.15))\n",
    "    print('RMSE', np.round(np.mean(rmse_list),4), np.round(np.std(rmse_list),4))\n",
    "    print('NMAD', np.round(np.mean(sigma_list),4),  np.round(np.std(sigma_list),4))\n",
    "    print('bias', np.round(np.mean(bias_list),4),  np.round(np.std(bias_list),4))\n",
    "    print('n15', np.round(np.mean(n15_list),4),  np.round(np.std(n15_list),4))\n",
    "    print('n30', np.round(np.mean(n30_list),4),  np.round(np.std(n30_list),4))\n",
    "    "
   ]
  },
  {
   "cell_type": "code",
   "execution_count": null,
   "metadata": {},
   "outputs": [],
   "source": []
  }
 ],
 "metadata": {
  "kernelspec": {
   "display_name": "high_z",
   "language": "python",
   "name": "python3"
  },
  "language_info": {
   "codemirror_mode": {
    "name": "ipython",
    "version": 3
   },
   "file_extension": ".py",
   "mimetype": "text/x-python",
   "name": "python",
   "nbconvert_exporter": "python",
   "pygments_lexer": "ipython3",
   "version": "3.9.2"
  }
 },
 "nbformat": 4,
 "nbformat_minor": 2
}
