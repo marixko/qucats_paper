{
 "cells": [
  {
   "cell_type": "code",
   "execution_count": 1,
   "metadata": {},
   "outputs": [],
   "source": [
    "from pathlib import Path\n",
    "import os\n",
    "import sys\n",
    "if str(Path.cwd().parent) not in sys.path:\n",
    "    sys.path.append(str(Path.cwd().parent))\n",
    "    \n",
    "import warnings\n",
    "from cycler import cycler\n",
    "import numpy as np\n",
    "import pandas as pd\n",
    "import matplotlib.pyplot as plt\n",
    "from sklearn.model_selection import train_test_split, StratifiedKFold\n",
    "\n",
    "from settings.paths import match_path, validation_path\n",
    "from settings.columns import specz, calculate_colors, create_colors, list_feat\n",
    "from utils.metrics import nmad, bias ,out_frac, rmse\n",
    "from utils.preprocessing import create_bins, rename_aper, mag_redshift_selection, prep_wise, missing_input, flag_observation\n",
    "from utils.crossvalidation import xval_results, save_folds\n",
    "\n",
    "\n",
    "plt.rcParams[\"font.size\"] = 22\n",
    "blue = (0, 0.48, 0.70)\n",
    "orange = (230/255,159/255, 0)\n",
    "yellow = (0.94, 0.89, 0.26)\n",
    "pink = (0.8, 0.47, 0.65)\n",
    "CB_color_cycle = ['#377eb8', '#ff7f00', '#4daf4a',\n",
    "                  '#f781bf', '#a65628', '#984ea3',\n",
    "                  '#999999', '#e41a1c', '#dede00']\n",
    "plt.rcParams['axes.prop_cycle'] = cycler('color', CB_color_cycle)\n",
    "\n",
    "warnings.filterwarnings(\"ignore\")\n",
    "%load_ext autoreload\n",
    "%autoreload 2"
   ]
  },
  {
   "cell_type": "code",
   "execution_count": 2,
   "metadata": {},
   "outputs": [],
   "source": [
    "from utils.correct_extinction import correction\n",
    "aper = \"PStotal\""
   ]
  },
  {
   "cell_type": "code",
   "execution_count": 3,
   "metadata": {},
   "outputs": [],
   "source": [
    "# table_dr2 = pd.read_table(os.path.join(match_path,\"STRIPE82_DR2_DR16Q1a_unWISE2a_GALEXDR672a.csv\"), sep=\",\")\n",
    "# table_dr2 = rename_aper(table_dr2)"
   ]
  },
  {
   "cell_type": "code",
   "execution_count": 3,
   "metadata": {},
   "outputs": [],
   "source": [
    "table_dr4 = pd.read_table(os.path.join(match_path,\"STRIPE82_DR4_DR16Q1a_unWISE2a_GALEXDR672a.csv\"), sep=\",\")\n",
    "table_dr4 = rename_aper(table_dr4)"
   ]
  },
  {
   "cell_type": "code",
   "execution_count": 5,
   "metadata": {},
   "outputs": [],
   "source": [
    "feat_mag = list_feat(aper=aper, broad = True, narrow = True, galex = True, wise = True)\n",
    "feat = create_colors(broad = True, narrow=True, wise=True, galex=True, aper=aper)\n",
    "# data = table_corrected.copy(deep=True)"
   ]
  },
  {
   "cell_type": "code",
   "execution_count": 10,
   "metadata": {},
   "outputs": [],
   "source": [
    "data = mag_redshift_selection(table_dr4, rmax=22, zmax=5)\n",
    "data = prep_wise(data)"
   ]
  },
  {
   "cell_type": "code",
   "execution_count": 14,
   "metadata": {},
   "outputs": [],
   "source": [
    "from settings.columns import wise, galex, splus, aper, calculate_colors, specz, error_splus\n"
   ]
  },
  {
   "cell_type": "code",
   "execution_count": 19,
   "metadata": {},
   "outputs": [
    {
     "data": {
      "text/html": [
       "<div>\n",
       "<style scoped>\n",
       "    .dataframe tbody tr th:only-of-type {\n",
       "        vertical-align: middle;\n",
       "    }\n",
       "\n",
       "    .dataframe tbody tr th {\n",
       "        vertical-align: top;\n",
       "    }\n",
       "\n",
       "    .dataframe thead th {\n",
       "        text-align: right;\n",
       "    }\n",
       "</style>\n",
       "<table border=\"1\" class=\"dataframe\">\n",
       "  <thead>\n",
       "    <tr style=\"text-align: right;\">\n",
       "      <th></th>\n",
       "      <th>u_PStotal</th>\n",
       "      <th>e_u_PStotal</th>\n",
       "    </tr>\n",
       "  </thead>\n",
       "  <tbody>\n",
       "    <tr>\n",
       "      <th>0</th>\n",
       "      <td>22.462389</td>\n",
       "      <td>0.637063</td>\n",
       "    </tr>\n",
       "    <tr>\n",
       "      <th>1</th>\n",
       "      <td>25.834753</td>\n",
       "      <td>13.570198</td>\n",
       "    </tr>\n",
       "    <tr>\n",
       "      <th>2</th>\n",
       "      <td>99.000000</td>\n",
       "      <td>99.000000</td>\n",
       "    </tr>\n",
       "    <tr>\n",
       "      <th>3</th>\n",
       "      <td>22.812483</td>\n",
       "      <td>0.915610</td>\n",
       "    </tr>\n",
       "    <tr>\n",
       "      <th>4</th>\n",
       "      <td>23.874598</td>\n",
       "      <td>2.208114</td>\n",
       "    </tr>\n",
       "    <tr>\n",
       "      <th>...</th>\n",
       "      <td>...</td>\n",
       "      <td>...</td>\n",
       "    </tr>\n",
       "    <tr>\n",
       "      <th>37973</th>\n",
       "      <td>20.698160</td>\n",
       "      <td>0.159381</td>\n",
       "    </tr>\n",
       "    <tr>\n",
       "      <th>37974</th>\n",
       "      <td>19.455515</td>\n",
       "      <td>0.052979</td>\n",
       "    </tr>\n",
       "    <tr>\n",
       "      <th>37975</th>\n",
       "      <td>20.565550</td>\n",
       "      <td>0.129557</td>\n",
       "    </tr>\n",
       "    <tr>\n",
       "      <th>37976</th>\n",
       "      <td>20.754107</td>\n",
       "      <td>0.156790</td>\n",
       "    </tr>\n",
       "    <tr>\n",
       "      <th>37977</th>\n",
       "      <td>20.076967</td>\n",
       "      <td>0.085472</td>\n",
       "    </tr>\n",
       "  </tbody>\n",
       "</table>\n",
       "<p>33151 rows × 2 columns</p>\n",
       "</div>"
      ],
      "text/plain": [
       "       u_PStotal  e_u_PStotal\n",
       "0      22.462389     0.637063\n",
       "1      25.834753    13.570198\n",
       "2      99.000000    99.000000\n",
       "3      22.812483     0.915610\n",
       "4      23.874598     2.208114\n",
       "...          ...          ...\n",
       "37973  20.698160     0.159381\n",
       "37974  19.455515     0.052979\n",
       "37975  20.565550     0.129557\n",
       "37976  20.754107     0.156790\n",
       "37977  20.076967     0.085472\n",
       "\n",
       "[33151 rows x 2 columns]"
      ]
     },
     "execution_count": 19,
     "metadata": {},
     "output_type": "execute_result"
    }
   ],
   "source": [
    "data[[\"u_PStotal\", \"e_u_PStotal\"]]"
   ]
  },
  {
   "cell_type": "code",
   "execution_count": 28,
   "metadata": {},
   "outputs": [],
   "source": [
    "data = missing_input(data, 0.5)"
   ]
  },
  {
   "cell_type": "code",
   "execution_count": 38,
   "metadata": {},
   "outputs": [],
   "source": [
    "\n",
    "data = flag_observation(data)\n",
    "data = correction(data)\n",
    "data = missing_input(data)\n",
    "data = calculate_colors(data, broad = True, narrow= True, wise = True, galex= True, aper=aper)\n",
    "data, bins, itvs = create_bins(data = data, bin_size=0.5, return_data = True, var = specz)"
   ]
  },
  {
   "cell_type": "code",
   "execution_count": 72,
   "metadata": {},
   "outputs": [
    {
     "name": "stdout",
     "output_type": "stream",
     "text": [
      "[True, True, True, True, True, True, True, True, True]\n"
     ]
    }
   ],
   "source": [
    "# Did two steps of train_test_split just to ensure that some specific targets (9) are in the test set\n",
    "# These 9 targets were originally used to plot some PDFs in thr first draft of the paper\n",
    "\n",
    "# sample = pd.read_csv(os.path.join(data_path, \"sample_plot_paper_9.txt\"), delim_whitespace=True)\n",
    "# list_ids = sample[\"ID_1\"].apply(lambda x: x.split(\" \")[0].split(\"-\")[-1])\n",
    "# check=False\n",
    "# k=0\n",
    "# while check==False:\n",
    "#     train, test = train_test_split(data, test_size=0.5, random_state=823, stratify=data['Zclass'])\n",
    "#     train2, test2 = train_test_split(test, test_size=0.5, random_state=124, stratify=test['Zclass'])\n",
    "#     list_ids_test = test2[\"ID\"].apply(lambda x: x.split(\" \")[0].split(\"-\")[-1])\n",
    "#     compare = [True if i in list_ids_test.values else False for i in list_ids.values]\n",
    "#     print(compare)\n",
    "#     check = all(compare)\n",
    "#     k+=1"
   ]
  },
  {
   "cell_type": "code",
   "execution_count": 39,
   "metadata": {},
   "outputs": [],
   "source": [
    "from utils.preprocessing import split_data\n",
    "train, test = split_data(data)"
   ]
  },
  {
   "cell_type": "code",
   "execution_count": 81,
   "metadata": {},
   "outputs": [],
   "source": [
    "# list_ids_test = test[\"ID\"].apply(lambda x: x.split(\" \")[0].split(\"-\")[-1])\n",
    "# compare = [True if i in list_ids_test.values else False for i in list_ids.values]"
   ]
  },
  {
   "cell_type": "code",
   "execution_count": 44,
   "metadata": {},
   "outputs": [],
   "source": [
    "# train, test = train_test_split(data, random_state=22, stratify=data['Zclass'])\n",
    "zclass_train = train[\"Zclass\"]"
   ]
  },
  {
   "cell_type": "code",
   "execution_count": 17,
   "metadata": {},
   "outputs": [
    {
     "data": {
      "text/plain": [
       "2005"
      ]
     },
     "execution_count": 17,
     "metadata": {},
     "output_type": "execute_result"
    }
   ],
   "source": [
    "#number of objects with non-observation in GALEX\n",
    "len(data[data[\"name\"].isna()])\n",
    "\n",
    "#number of objects with non-observation in WISE\n",
    "len(data[data[\"objID_x\"].isna()])"
   ]
  },
  {
   "cell_type": "code",
   "execution_count": 18,
   "metadata": {},
   "outputs": [],
   "source": [
    "flags = [\"flag_WISE\", \"flag_GALEX\"]"
   ]
  },
  {
   "cell_type": "code",
   "execution_count": 41,
   "metadata": {},
   "outputs": [],
   "source": [
    "feat = {}\n",
    "feat[\"broad\"] =  create_colors(broad = True, narrow=False, wise=False, galex=False, aper=aper)\n",
    "feat[\"broad\"] = feat[\"broad\"]\n",
    "feat[\"broad+narrow\"]=  create_colors(broad = True, narrow=True, wise=False, galex=False, aper=aper)\n",
    "feat[\"broad+narrow\"]=   feat[\"broad+narrow\"]\n",
    "\n",
    "feat[\"broad+GALEX+WISE\"]=  create_colors(broad = True, narrow=False, wise=True, galex=True, aper=aper)\n",
    "\n",
    "feat[\"broad+WISE+narrow\"]=  create_colors(broad = True, narrow=True, wise=False, galex=True, aper=aper)\n",
    "\n",
    "feat[\"broad+GALEX+WISE+narrow\"]=  create_colors(broad = True, narrow=True, wise=True, galex=True, aper=aper)\n"
   ]
  },
  {
   "cell_type": "code",
   "execution_count": 42,
   "metadata": {},
   "outputs": [],
   "source": [
    "color_feat = {}\n",
    "color_feat[\"broad\"] = \"#377eb8\"\n",
    "color_feat[\"broad+narrow\"] =  \"#ff7f00\"\n",
    "color_feat[\"broad+GALEX+WISE\"]= \"#4daf4a\"\n",
    "color_feat[\"broad+GALEX+WISE+narrow\"]= \"#f781bf\"\n"
   ]
  },
  {
   "cell_type": "code",
   "execution_count": 45,
   "metadata": {},
   "outputs": [],
   "source": [
    "# skf = StratifiedKFold(n_splits=5, shuffle=True, random_state=47)\n",
    "# i=0\n",
    "# for train_index, val_index in skf.split(train, zclass_train):\n",
    "#     mag_train_cv, mag_val_cv = train.iloc[train_index], train.iloc[val_index]\n",
    "#     mag_train_cv.index.name = \"index\"\n",
    "#     mag_val_cv.index.name = \"index\"\n",
    "#     mag_train_cv.to_csv(os.path.join(validation_path,\"trainf\"+str(i)+\"_latest.csv\"), sep=\",\")\n",
    "#     mag_val_cv.to_csv(os.path.join(validation_path,\"valf\"+str(i)+\"_latest.csv\"), sep=\",\")\n",
    "#     i = i+1\n",
    "\n",
    "\n",
    "save_folds(train, zclass_train)\n",
    "\n",
    "test.index.name = 'index'\n",
    "test.to_csv(os.path.join(validation_path, \"test_error_replaced.csv\"))"
   ]
  },
  {
   "cell_type": "code",
   "execution_count": 21,
   "metadata": {},
   "outputs": [],
   "source": [
    "z={}"
   ]
  },
  {
   "cell_type": "code",
   "execution_count": 31,
   "metadata": {},
   "outputs": [
    {
     "name": "stdout",
     "output_type": "stream",
     "text": [
      "broad\n",
      "broad+narrow\n",
      "broad+GALEX+WISE\n",
      "broad+GALEX+WISE+flags\n",
      "broad+WISE+narrow\n",
      "broad+WISE+narrow+flags\n",
      "broad+GALEX+WISE+narrow\n",
      "broad+GALEX+WISE+narrow+flags\n"
     ]
    }
   ],
   "source": [
    "for key, value in feat.items():\n",
    "    print(key)\n",
    "    z[key] = xval_results(feat[key], key, save_model=False, save_result=False)\n"
   ]
  },
  {
   "cell_type": "code",
   "execution_count": 43,
   "metadata": {},
   "outputs": [
    {
     "name": "stdout",
     "output_type": "stream",
     "text": [
      "broad\n",
      "RMSE 0.6451 0.0056\n",
      "NMAD 0.2154 0.0045\n",
      "bias 0.0013 0.0052\n",
      "n30 0.2259 0.0035\n",
      "n15 0.4886 0.0067\n",
      "broad+narrow\n",
      "RMSE 0.576 0.0032\n",
      "NMAD 0.1809 0.0029\n",
      "bias 0.0023 0.0029\n",
      "n30 0.1874 0.0032\n",
      "n15 0.4304 0.0047\n",
      "broad+GALEX+WISE\n",
      "RMSE 0.4245 0.0102\n",
      "NMAD 0.1027 0.0025\n",
      "bias -0.0014 0.0063\n",
      "n30 0.0704 0.0023\n",
      "n15 0.2272 0.0037\n",
      "broad+GALEX+WISE+flags\n",
      "RMSE 0.4245 0.0102\n",
      "NMAD 0.1028 0.0026\n",
      "bias -0.0015 0.0063\n",
      "n30 0.0702 0.0017\n",
      "n15 0.2272 0.0039\n",
      "broad+WISE+narrow\n",
      "RMSE 0.5334 0.0045\n",
      "NMAD 0.1424 0.0039\n",
      "bias 0.0026 0.0053\n",
      "n30 0.1449 0.0054\n",
      "n15 0.355 0.0024\n",
      "broad+WISE+narrow+flags\n",
      "RMSE 0.5267 0.0047\n",
      "NMAD 0.1406 0.0023\n",
      "bias 0.0027 0.0048\n",
      "n30 0.1419 0.0039\n",
      "n15 0.3477 0.0034\n",
      "broad+GALEX+WISE+narrow\n",
      "RMSE 0.4102 0.0093\n",
      "NMAD 0.0931 0.0019\n",
      "bias 0.0013 0.0069\n",
      "n30 0.067 0.0016\n",
      "n15 0.2155 0.0042\n",
      "broad+GALEX+WISE+narrow+flags\n",
      "RMSE 0.4101 0.0092\n",
      "NMAD 0.0932 0.0018\n",
      "bias 0.0012 0.0069\n",
      "n30 0.0671 0.0015\n",
      "n15 0.2164 0.0044\n"
     ]
    }
   ],
   "source": [
    "from utils.metrics import print_metrics\n",
    "for key, value in feat.items():\n",
    "    print(key)\n",
    "    print_metrics(z[key], xval=True)"
   ]
  },
  {
   "cell_type": "code",
   "execution_count": 46,
   "metadata": {},
   "outputs": [],
   "source": [
    "# Results when errors > 0.5 are replaced by 99"
   ]
  },
  {
   "cell_type": "code",
   "execution_count": 49,
   "metadata": {},
   "outputs": [],
   "source": [
    "import pickle\n",
    "from settings.paths import rf_path\n",
    "dict_gridsearch= pickle.load(open(os.path.join(rf_path,'GridSearch_broad+GALEX+WISE+narrow+flags.sav'), 'rb')).best_params_\n",
    "    "
   ]
  },
  {
   "cell_type": "code",
   "execution_count": 51,
   "metadata": {},
   "outputs": [
    {
     "name": "stdout",
     "output_type": "stream",
     "text": [
      "broad\n",
      "broad+narrow\n",
      "broad+GALEX+WISE\n",
      "broad+WISE+narrow\n",
      "broad+GALEX+WISE+narrow\n"
     ]
    }
   ],
   "source": [
    "z={}\n",
    "for key, value in feat.items():\n",
    "    print(key)\n",
    "    z[key] = xval_results(feat[key], key, dict_gridsearch, save_model=False, save_result=False)\n"
   ]
  },
  {
   "cell_type": "code",
   "execution_count": 53,
   "metadata": {},
   "outputs": [
    {
     "name": "stdout",
     "output_type": "stream",
     "text": [
      "broad\n",
      "RMSE 0.6464 0.0057\n",
      "NMAD 0.2174 0.0035\n",
      "bias 0.001 0.0053\n",
      "n15 0.4921 0.0073\n",
      "n30 0.2249 0.003\n",
      "broad+narrow\n",
      "RMSE 0.5752 0.003\n",
      "NMAD 0.18 0.0026\n",
      "bias 0.0007 0.0029\n",
      "n15 0.4281 0.0034\n",
      "n30 0.1857 0.0034\n",
      "broad+GALEX+WISE\n",
      "RMSE 0.4244 0.0103\n",
      "NMAD 0.1021 0.0025\n",
      "bias -0.001 0.0059\n",
      "n15 0.228 0.0057\n",
      "n30 0.0703 0.0016\n",
      "broad+WISE+narrow\n",
      "RMSE 0.5337 0.0045\n",
      "NMAD 0.1426 0.0028\n",
      "bias 0.0021 0.0051\n",
      "n15 0.3548 0.0031\n",
      "n30 0.145 0.0036\n",
      "broad+GALEX+WISE+narrow\n",
      "RMSE 0.4099 0.0094\n",
      "NMAD 0.0927 0.0021\n",
      "bias 0.0009 0.0071\n",
      "n15 0.2169 0.0038\n",
      "n30 0.0665 0.0014\n"
     ]
    }
   ],
   "source": [
    "from utils.metrics import print_metrics_xval\n",
    "for key, value in feat.items():\n",
    "    print(key)\n",
    "    print_metrics_xval(z[key])"
   ]
  }
 ],
 "metadata": {
  "kernelspec": {
   "display_name": "high_z",
   "language": "python",
   "name": "python3"
  },
  "language_info": {
   "codemirror_mode": {
    "name": "ipython",
    "version": 3
   },
   "file_extension": ".py",
   "mimetype": "text/x-python",
   "name": "python",
   "nbconvert_exporter": "python",
   "pygments_lexer": "ipython3",
   "version": "3.10.13"
  }
 },
 "nbformat": 4,
 "nbformat_minor": 2
}
