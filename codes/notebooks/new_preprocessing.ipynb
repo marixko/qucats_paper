{
 "cells": [
  {
   "cell_type": "code",
   "execution_count": 8,
   "metadata": {},
   "outputs": [],
   "source": [
    "from pathlib import Path\n",
    "import os\n",
    "import sys\n",
    "if str(Path.cwd().parent) not in sys.path:\n",
    "    sys.path.append(str(Path.cwd().parent))\n",
    "    \n",
    "import warnings\n",
    "from cycler import cycler\n",
    "import numpy as np\n",
    "import pandas as pd\n",
    "import matplotlib.pyplot as plt\n",
    "from sklearn.model_selection import train_test_split, StratifiedKFold\n",
    "\n",
    "from settings.paths import match_path, validation_path\n",
    "from settings.columns import specz, calculate_colors, create_colors, list_feat\n",
    "from utils.metrics import nmad, bias ,out_frac, rmse\n",
    "from utils.preprocessing import create_bins, rename_aper, mag_redshift_selection, prep_wise, missing_input, flag_observation\n",
    "from utils.crossvalidation import xval_results, save_folds\n",
    "\n",
    "\n",
    "plt.rcParams[\"font.size\"] = 22\n",
    "blue = (0, 0.48, 0.70)\n",
    "orange = (230/255,159/255, 0)\n",
    "yellow = (0.94, 0.89, 0.26)\n",
    "pink = (0.8, 0.47, 0.65)\n",
    "CB_color_cycle = ['#377eb8', '#ff7f00', '#4daf4a',\n",
    "                  '#f781bf', '#a65628', '#984ea3',\n",
    "                  '#999999', '#e41a1c', '#dede00']\n",
    "plt.rcParams['axes.prop_cycle'] = cycler('color', CB_color_cycle)\n",
    "\n",
    "warnings.filterwarnings(\"ignore\")\n",
    "%load_ext autoreload\n",
    "%autoreload 2"
   ]
  },
  {
   "cell_type": "code",
   "execution_count": 2,
   "metadata": {},
   "outputs": [],
   "source": [
    "from utils.correct_extinction import correction\n",
    "aper = \"PStotal\""
   ]
  },
  {
   "cell_type": "code",
   "execution_count": 3,
   "metadata": {},
   "outputs": [],
   "source": [
    "# table_dr2 = pd.read_table(os.path.join(match_path,\"STRIPE82_DR2_DR16Q1a_unWISE2a_GALEXDR672a.csv\"), sep=\",\")\n",
    "# table_dr2 = rename_aper(table_dr2)"
   ]
  },
  {
   "cell_type": "code",
   "execution_count": 4,
   "metadata": {},
   "outputs": [],
   "source": [
    "table_dr4 = pd.read_table(os.path.join(match_path,\"STRIPE82_DR4_DR16Q1a_unWISE2a_GALEXDR672a.csv\"), sep=\",\")\n",
    "table_dr4 = rename_aper(table_dr4)"
   ]
  },
  {
   "cell_type": "code",
   "execution_count": 5,
   "metadata": {},
   "outputs": [],
   "source": [
    "def fraction_of_non_observation(df, survey=\"WISE\"):\n",
    "    if survey==\"WISE\":\n",
    "        print(len(df[df[\"objID_x\"].isna()])/len(df))\n",
    "        return \n",
    "    \n",
    "    if survey==\"GALEX\":\n",
    "        print(len(df[df[\"name\"].isna()])/len(df))\n",
    "        return \n",
    "    \n",
    "def fraction_of_non_detection(df, survey=\"WISE\"):\n",
    "    if survey==\"WISE\":\n",
    "        print(\"W1:\", len(df[df[\"W1\"]==99])/len(df))\n",
    "        print(\"W2:\", len(df[df[\"W2\"]==99])/len(df))\n",
    "        return \n",
    "    \n",
    "    if survey==\"GALEX\":\n",
    "        print(\"FUV:\", len(df[df[\"FUVmag\"]==99].dropna(subset=[\"name\"]))/len(df.dropna(subset=[\"name\"])))\n",
    "        print(\"NUV:\", len(df[df[\"NUVmag\"]==99].dropna(subset=[\"name\"]))/len(df.dropna(subset=[\"name\"])))\n",
    "        return"
   ]
  },
  {
   "cell_type": "code",
   "execution_count": 6,
   "metadata": {},
   "outputs": [],
   "source": [
    "feat_mag = list_feat(aper=aper, broad = True, narrow = True, galex = True, wise = True)\n",
    "feat = create_colors(broad = True, narrow=True, wise=True, galex=True, aper=aper)\n",
    "# data = table_corrected.copy(deep=True)"
   ]
  },
  {
   "cell_type": "code",
   "execution_count": 7,
   "metadata": {},
   "outputs": [],
   "source": [
    "data = mag_redshift_selection(table_dr4, rmax=22, zmax=5)\n",
    "data = prep_wise(data)\n",
    "data = flag_observation(data)\n",
    "data = correction(data)\n",
    "data = missing_input(data)\n",
    "data = calculate_colors(data, broad = True, narrow= True, wise = True, galex= True, aper=aper)\n",
    "data, bins, itvs = create_bins(data = data, bin_size=0.5, return_data = True, var = specz)"
   ]
  },
  {
   "cell_type": "code",
   "execution_count": 72,
   "metadata": {},
   "outputs": [
    {
     "name": "stdout",
     "output_type": "stream",
     "text": [
      "[True, True, True, True, True, True, True, True, True]\n"
     ]
    }
   ],
   "source": [
    "# Did two steps of train_test_split just to ensure that some specific targets (9) are in the test set\n",
    "# These 9 targets were originally used to plot some PDFs in thr first draft of the paper\n",
    "\n",
    "# sample = pd.read_csv(os.path.join(data_path, \"sample_plot_paper_9.txt\"), delim_whitespace=True)\n",
    "# list_ids = sample[\"ID_1\"].apply(lambda x: x.split(\" \")[0].split(\"-\")[-1])\n",
    "# check=False\n",
    "# k=0\n",
    "# while check==False:\n",
    "#     train, test = train_test_split(data, test_size=0.5, random_state=823, stratify=data['Zclass'])\n",
    "#     train2, test2 = train_test_split(test, test_size=0.5, random_state=124, stratify=test['Zclass'])\n",
    "#     list_ids_test = test2[\"ID\"].apply(lambda x: x.split(\" \")[0].split(\"-\")[-1])\n",
    "#     compare = [True if i in list_ids_test.values else False for i in list_ids.values]\n",
    "#     print(compare)\n",
    "#     check = all(compare)\n",
    "#     k+=1"
   ]
  },
  {
   "cell_type": "code",
   "execution_count": 14,
   "metadata": {},
   "outputs": [],
   "source": []
  },
  {
   "cell_type": "code",
   "execution_count": 15,
   "metadata": {},
   "outputs": [
    {
     "name": "stdout",
     "output_type": "stream",
     "text": [
      "0.060480830140870565\n",
      "0.06069259542291759\n",
      "0.059845559845559844\n",
      "W1: 0.06922868088443787\n",
      "W2: 0.14132303701245816\n",
      "W1: 0.06962152596227325\n",
      "W2: 0.14177693761814744\n",
      "W1: 0.06805019305019305\n",
      "W2: 0.13996138996138996\n",
      "0.6919851588187385\n",
      "0.6917105739452198\n",
      "0.6928088803088803\n",
      "FUV: 0.6410733522671629\n",
      "NUV: 0.0\n",
      "FUV: 0.636399217221135\n",
      "NUV: 0.0\n",
      "FUV: 0.655145326001571\n",
      "NUV: 0.0\n"
     ]
    }
   ],
   "source": [
    "fraction_of_non_observation(data, survey=\"WISE\")\n",
    "fraction_of_non_observation(train, survey=\"WISE\")\n",
    "fraction_of_non_observation(test, survey=\"WISE\")\n",
    "\n",
    "fraction_of_non_detection(data, survey=\"WISE\")\n",
    "fraction_of_non_detection(train, survey=\"WISE\")\n",
    "fraction_of_non_detection(test, survey=\"WISE\")\n",
    "\n",
    "fraction_of_non_observation(data, survey=\"GALEX\")\n",
    "fraction_of_non_observation(train, survey=\"GALEX\")\n",
    "fraction_of_non_observation(test, survey=\"GALEX\")\n",
    "\n",
    "fraction_of_non_detection(data, survey=\"GALEX\")\n",
    "fraction_of_non_detection(train, survey=\"GALEX\")\n",
    "fraction_of_non_detection(test, survey=\"GALEX\")"
   ]
  },
  {
   "cell_type": "code",
   "execution_count": 81,
   "metadata": {},
   "outputs": [],
   "source": [
    "# list_ids_test = test[\"ID\"].apply(lambda x: x.split(\" \")[0].split(\"-\")[-1])\n",
    "# compare = [True if i in list_ids_test.values else False for i in list_ids.values]"
   ]
  },
  {
   "cell_type": "code",
   "execution_count": 16,
   "metadata": {},
   "outputs": [],
   "source": [
    "# train, test = train_test_split(data, random_state=22, stratify=data['Zclass'])\n",
    "zclass_train = train[\"Zclass\"]"
   ]
  },
  {
   "cell_type": "code",
   "execution_count": 17,
   "metadata": {},
   "outputs": [
    {
     "data": {
      "text/plain": [
       "2005"
      ]
     },
     "execution_count": 17,
     "metadata": {},
     "output_type": "execute_result"
    }
   ],
   "source": [
    "#number of objects with non-observation in GALEX\n",
    "len(data[data[\"name\"].isna()])\n",
    "\n",
    "#number of objects with non-observation in WISE\n",
    "len(data[data[\"objID_x\"].isna()])"
   ]
  },
  {
   "cell_type": "code",
   "execution_count": 18,
   "metadata": {},
   "outputs": [],
   "source": [
    "flags = [\"flag_WISE\", \"flag_GALEX\"]"
   ]
  },
  {
   "cell_type": "code",
   "execution_count": 26,
   "metadata": {},
   "outputs": [],
   "source": [
    "feat = {}\n",
    "feat[\"broad\"] =  create_colors(broad = True, narrow=False, wise=False, galex=False, aper=aper)\n",
    "feat[\"broad\"] = feat[\"broad\"]\n",
    "feat[\"broad+narrow\"]=  create_colors(broad = True, narrow=True, wise=False, galex=False, aper=aper)\n",
    "feat[\"broad+narrow\"]=   feat[\"broad+narrow\"]\n",
    "\n",
    "feat[\"broad+GALEX+WISE\"]=  create_colors(broad = True, narrow=False, wise=True, galex=True, aper=aper)\n",
    "feat[\"broad+GALEX+WISE+flags\"]=  feat[\"broad+GALEX+WISE\"]+flags\n",
    "\n",
    "\n",
    "feat[\"broad+WISE+narrow\"]=  create_colors(broad = True, narrow=True, wise=False, galex=True, aper=aper)\n",
    "feat[\"broad+WISE+narrow+flags\"]=  feat[\"broad+WISE+narrow\"]+[\"flag_WISE\"]\n",
    "\n",
    "\n",
    "feat[\"broad+GALEX+WISE+narrow\"]=  create_colors(broad = True, narrow=True, wise=True, galex=True, aper=aper)\n",
    "feat[\"broad+GALEX+WISE+narrow+flags\"]=  feat[\"broad+GALEX+WISE+narrow\"]+flags"
   ]
  },
  {
   "cell_type": "code",
   "execution_count": 20,
   "metadata": {},
   "outputs": [],
   "source": [
    "color_feat = {}\n",
    "color_feat[\"broad\"] = \"#377eb8\"\n",
    "color_feat[\"broad+narrow\"] =  \"#ff7f00\"\n",
    "color_feat[\"broad+GALEX+WISE\"]= \"#4daf4a\"\n",
    "color_feat[\"broad+GALEX+WISE+narrow\"]= \"#f781bf\"\n"
   ]
  },
  {
   "cell_type": "code",
   "execution_count": 29,
   "metadata": {},
   "outputs": [],
   "source": [
    "# skf = StratifiedKFold(n_splits=5, shuffle=True, random_state=47)\n",
    "# i=0\n",
    "# for train_index, val_index in skf.split(train, zclass_train):\n",
    "#     mag_train_cv, mag_val_cv = train.iloc[train_index], train.iloc[val_index]\n",
    "#     mag_train_cv.index.name = \"index\"\n",
    "#     mag_val_cv.index.name = \"index\"\n",
    "#     mag_train_cv.to_csv(os.path.join(validation_path,\"trainf\"+str(i)+\"_latest.csv\"), sep=\",\")\n",
    "#     mag_val_cv.to_csv(os.path.join(validation_path,\"valf\"+str(i)+\"_latest.csv\"), sep=\",\")\n",
    "#     i = i+1\n",
    "\n",
    "\n",
    "save_folds(train, zclass_train)\n",
    "\n",
    "test.index.name = 'index'\n",
    "test.to_csv(os.path.join(validation_path, \"test.csv\"))"
   ]
  },
  {
   "cell_type": "code",
   "execution_count": 21,
   "metadata": {},
   "outputs": [],
   "source": [
    "z={}"
   ]
  },
  {
   "cell_type": "code",
   "execution_count": 31,
   "metadata": {},
   "outputs": [
    {
     "name": "stdout",
     "output_type": "stream",
     "text": [
      "broad\n",
      "broad+narrow\n",
      "broad+GALEX+WISE\n",
      "broad+GALEX+WISE+flags\n",
      "broad+WISE+narrow\n",
      "broad+WISE+narrow+flags\n",
      "broad+GALEX+WISE+narrow\n",
      "broad+GALEX+WISE+narrow+flags\n"
     ]
    }
   ],
   "source": [
    "for key, value in feat.items():\n",
    "    print(key)\n",
    "    z[key] = xval_results(feat[key], key, save_model=False, save_result=False)\n"
   ]
  },
  {
   "cell_type": "code",
   "execution_count": 43,
   "metadata": {},
   "outputs": [
    {
     "name": "stdout",
     "output_type": "stream",
     "text": [
      "broad\n",
      "RMSE 0.6451 0.0056\n",
      "NMAD 0.2154 0.0045\n",
      "bias 0.0013 0.0052\n",
      "n30 0.2259 0.0035\n",
      "n15 0.4886 0.0067\n",
      "broad+narrow\n",
      "RMSE 0.576 0.0032\n",
      "NMAD 0.1809 0.0029\n",
      "bias 0.0023 0.0029\n",
      "n30 0.1874 0.0032\n",
      "n15 0.4304 0.0047\n",
      "broad+GALEX+WISE\n",
      "RMSE 0.4245 0.0102\n",
      "NMAD 0.1027 0.0025\n",
      "bias -0.0014 0.0063\n",
      "n30 0.0704 0.0023\n",
      "n15 0.2272 0.0037\n",
      "broad+GALEX+WISE+flags\n",
      "RMSE 0.4245 0.0102\n",
      "NMAD 0.1028 0.0026\n",
      "bias -0.0015 0.0063\n",
      "n30 0.0702 0.0017\n",
      "n15 0.2272 0.0039\n",
      "broad+WISE+narrow\n",
      "RMSE 0.5334 0.0045\n",
      "NMAD 0.1424 0.0039\n",
      "bias 0.0026 0.0053\n",
      "n30 0.1449 0.0054\n",
      "n15 0.355 0.0024\n",
      "broad+WISE+narrow+flags\n",
      "RMSE 0.5267 0.0047\n",
      "NMAD 0.1406 0.0023\n",
      "bias 0.0027 0.0048\n",
      "n30 0.1419 0.0039\n",
      "n15 0.3477 0.0034\n",
      "broad+GALEX+WISE+narrow\n",
      "RMSE 0.4102 0.0093\n",
      "NMAD 0.0931 0.0019\n",
      "bias 0.0013 0.0069\n",
      "n30 0.067 0.0016\n",
      "n15 0.2155 0.0042\n",
      "broad+GALEX+WISE+narrow+flags\n",
      "RMSE 0.4101 0.0092\n",
      "NMAD 0.0932 0.0018\n",
      "bias 0.0012 0.0069\n",
      "n30 0.0671 0.0015\n",
      "n15 0.2164 0.0044\n"
     ]
    }
   ],
   "source": [
    "from utils.metrics import print_metrics\n",
    "for key, value in feat.items():\n",
    "    print(key)\n",
    "    print_metrics(z[key], xval=True)"
   ]
  }
 ],
 "metadata": {
  "kernelspec": {
   "display_name": "high_z",
   "language": "python",
   "name": "python3"
  },
  "language_info": {
   "codemirror_mode": {
    "name": "ipython",
    "version": 3
   },
   "file_extension": ".py",
   "mimetype": "text/x-python",
   "name": "python",
   "nbconvert_exporter": "python",
   "pygments_lexer": "ipython3",
   "version": "3.10.13"
  }
 },
 "nbformat": 4,
 "nbformat_minor": 2
}
