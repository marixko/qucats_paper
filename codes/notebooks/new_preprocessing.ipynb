{
 "cells": [
  {
   "cell_type": "code",
   "execution_count": 203,
   "metadata": {},
   "outputs": [
    {
     "name": "stdout",
     "output_type": "stream",
     "text": [
      "The autoreload extension is already loaded. To reload it, use:\n",
      "  %reload_ext autoreload\n"
     ]
    }
   ],
   "source": [
    "from pathlib import Path\n",
    "import os\n",
    "import sys\n",
    "if str(Path.cwd().parent) not in sys.path:\n",
    "    sys.path.append(str(Path.cwd().parent))\n",
    "from utils.crossvalidation import xval\n",
    "from settings.paths import match_path, img_path, rf_path, bnn_path, flex_path\n",
    "import pandas as pd\n",
    "import matplotlib.pyplot as plt\n",
    "from utils.preprocessing import create_bins, prep_data, rename_aper\n",
    "from settings.columns import specz, calculate_colors, create_colors, list_feat\n",
    "from utils.metrics import sigma, bias ,out_frac, rmse, mse\n",
    "import warnings\n",
    "import numpy as np\n",
    "from utils.metrics import sigma, out_frac, bias, rmse\n",
    "from sklearn.ensemble import RandomForestRegressor\n",
    "from sklearn.model_selection import train_test_split\n",
    "from sklearn.model_selection import StratifiedKFold\n",
    "from cycler import cycler\n",
    "from sklearn.model_selection import GridSearchCV\n",
    "from utils.preprocessing import create_bins\n",
    "from utils.crossvalidation import metric_per_bin\n",
    "from utils.preprocessing import create_bins, rename_aper, mag_redshift_selection, prep_wise, missing_input\n",
    "\n",
    "plt.rcParams[\"font.size\"] = 22\n",
    "blue = (0, 0.48, 0.70)\n",
    "orange = (230/255,159/255, 0)\n",
    "yellow = (0.94, 0.89, 0.26)\n",
    "pink = (0.8, 0.47, 0.65)\n",
    "CB_color_cycle = ['#377eb8', '#ff7f00', '#4daf4a',\n",
    "                  '#f781bf', '#a65628', '#984ea3',\n",
    "                  '#999999', '#e41a1c', '#dede00']\n",
    "plt.rcParams['axes.prop_cycle'] = cycler('color', CB_color_cycle)\n",
    "\n",
    "warnings.filterwarnings(\"ignore\")\n",
    "%load_ext autoreload\n",
    "%autoreload 2"
   ]
  },
  {
   "cell_type": "code",
   "execution_count": 6,
   "metadata": {},
   "outputs": [],
   "source": [
    "from utils.correct_extinction import correction\n",
    "aper = \"PStotal\""
   ]
  },
  {
   "cell_type": "code",
   "execution_count": 9,
   "metadata": {},
   "outputs": [],
   "source": [
    "table_dr2 = pd.read_table(os.path.join(match_path,\"STRIPE82_DR2_DR16Q1a_unWISE2a_GALEXDR672a.csv\"), sep=\",\")\n",
    "table_dr2 = rename_aper(table_dr2)"
   ]
  },
  {
   "cell_type": "code",
   "execution_count": 204,
   "metadata": {},
   "outputs": [],
   "source": [
    "table_dr4 = pd.read_table(os.path.join(match_path,\"STRIPE82_DR4_DR16Q1a_unWISE2a_GALEXDR672a.csv\"), sep=\",\")\n",
    "table_dr4 = rename_aper(table_dr4)"
   ]
  },
  {
   "cell_type": "code",
   "execution_count": 205,
   "metadata": {},
   "outputs": [],
   "source": [
    "data = mag_redshift_selection(table_dr4, rmax=22, zmax=5)"
   ]
  },
  {
   "cell_type": "code",
   "execution_count": 206,
   "metadata": {},
   "outputs": [],
   "source": [
    "data = prep_wise(data)\n"
   ]
  },
  {
   "cell_type": "code",
   "execution_count": 208,
   "metadata": {},
   "outputs": [],
   "source": [
    "data = missing_input(data)\n"
   ]
  },
  {
   "cell_type": "code",
   "execution_count": 209,
   "metadata": {},
   "outputs": [],
   "source": [
    "data, bins, itvs = create_bins(data = data, bin_size=0.5, return_data = True, var = specz)\n",
    "train, test = train_test_split(data, random_state=47, stratify=data['Zclass'])\n",
    "zclass_train = train[\"Zclass\"]\n",
    "\n",
    "train = correction(train)\n",
    "test = correction(test)\n",
    "\n",
    "train = calculate_colors(train, broad = True, narrow= True, wise = True, galex= True, aper=aper)\n",
    "test =  calculate_colors(test, broad = True, narrow= True, wise = True, galex= True, aper=aper)"
   ]
  },
  {
   "cell_type": "code",
   "execution_count": 190,
   "metadata": {},
   "outputs": [],
   "source": [
    "def fraction_of_non_observation(df, survey=\"WISE\"):\n",
    "    if survey==\"WISE\":\n",
    "        print(len(df[df[\"objID_x\"].isna()])/len(df))\n",
    "        return \n",
    "    \n",
    "    if survey==\"GALEX\":\n",
    "        print(len(df[df[\"name\"].isna()])/len(df))\n",
    "        return \n",
    "    \n",
    "def fraction_of_non_detection(df, survey=\"WISE\"):\n",
    "    if survey==\"WISE\":\n",
    "        print(\"W1:\", len(df[df[\"W1\"].isna()])/len(df))\n",
    "        print(\"W2:\", len(df[df[\"W2\"].isna()])/len(df))\n",
    "        return \n",
    "    \n",
    "    if survey==\"GALEX\":\n",
    "        print(\"FUV:\", len(df[df[\"FUVmag\"].isna()].dropna(subset=[\"name\"]))/len(df.dropna(subset=[\"name\"])))\n",
    "        print(\"NUV:\", len(df[df[\"NUVmag\"].isna()].dropna(subset=[\"name\"]))/len(df.dropna(subset=[\"name\"])))\n",
    "        return"
   ]
  },
  {
   "cell_type": "code",
   "execution_count": 180,
   "metadata": {},
   "outputs": [
    {
     "data": {
      "text/plain": [
       "22940"
      ]
     },
     "execution_count": 180,
     "metadata": {},
     "output_type": "execute_result"
    }
   ],
   "source": [
    "#number of objects with non-observation in GALEX\n",
    "len(data[data[\"name\"].isna()])\n",
    "\n",
    "#number of objects with non-observation in WISE\n",
    "len(data[data[\"objID_x\"].isna()])"
   ]
  },
  {
   "cell_type": "code",
   "execution_count": 197,
   "metadata": {},
   "outputs": [],
   "source": [
    "\n",
    "feat_mag = list_feat(aper=aper, broad = True, narrow = True, galex = True, wise = True)\n",
    "feat = create_colors(broad = True, narrow=True, wise=True, galex=True, aper=aper)\n",
    "# data = table_corrected.copy(deep=True)"
   ]
  },
  {
   "cell_type": "code",
   "execution_count": 181,
   "metadata": {},
   "outputs": [],
   "source": []
  },
  {
   "cell_type": "code",
   "execution_count": 192,
   "metadata": {},
   "outputs": [
    {
     "name": "stdout",
     "output_type": "stream",
     "text": [
      "0.060480830140870565\n",
      "0.060129509713228495\n",
      "0.06153474903474904\n"
     ]
    }
   ],
   "source": [
    "fraction_of_non_observation(data, survey=\"WISE\")\n",
    "fraction_of_non_observation(train, survey=\"WISE\")\n",
    "fraction_of_non_observation(test, survey=\"WISE\")"
   ]
  },
  {
   "cell_type": "code",
   "execution_count": 193,
   "metadata": {},
   "outputs": [
    {
     "name": "stdout",
     "output_type": "stream",
     "text": [
      "0.6919851588187385\n",
      "0.6918312351687246\n",
      "0.6924469111969112\n"
     ]
    }
   ],
   "source": [
    "fraction_of_non_observation(data, survey=\"GALEX\")\n",
    "fraction_of_non_observation(train, survey=\"GALEX\")\n",
    "fraction_of_non_observation(test, survey=\"GALEX\")"
   ]
  },
  {
   "cell_type": "code",
   "execution_count": 194,
   "metadata": {},
   "outputs": [
    {
     "name": "stdout",
     "output_type": "stream",
     "text": [
      "W1: 0.06922868088443787\n",
      "W2: 0.14132303701245816\n",
      "W1: 0.06901821984474922\n",
      "W2: 0.14097252946144873\n",
      "W1: 0.06986003861003862\n",
      "W2: 0.14237451737451737\n"
     ]
    }
   ],
   "source": [
    "fraction_of_non_detection(data, survey=\"WISE\")\n",
    "fraction_of_non_detection(train, survey=\"WISE\")\n",
    "fraction_of_non_detection(test, survey=\"WISE\")"
   ]
  },
  {
   "cell_type": "code",
   "execution_count": 195,
   "metadata": {},
   "outputs": [
    {
     "name": "stdout",
     "output_type": "stream",
     "text": [
      "FUV: 0.6410733522671629\n",
      "NUV: 0.0\n",
      "FUV: 0.6378230227094753\n",
      "NUV: 0.0\n",
      "FUV: 0.6508434680266771\n",
      "NUV: 0.0\n"
     ]
    }
   ],
   "source": [
    "fraction_of_non_detection(data, survey=\"GALEX\")\n",
    "fraction_of_non_detection(train, survey=\"GALEX\")\n",
    "fraction_of_non_detection(test, survey=\"GALEX\")"
   ]
  },
  {
   "cell_type": "code",
   "execution_count": null,
   "metadata": {},
   "outputs": [],
   "source": []
  }
 ],
 "metadata": {
  "kernelspec": {
   "display_name": "high_z",
   "language": "python",
   "name": "python3"
  },
  "language_info": {
   "codemirror_mode": {
    "name": "ipython",
    "version": 3
   },
   "file_extension": ".py",
   "mimetype": "text/x-python",
   "name": "python",
   "nbconvert_exporter": "python",
   "pygments_lexer": "ipython3",
   "version": "3.9.2"
  }
 },
 "nbformat": 4,
 "nbformat_minor": 2
}
