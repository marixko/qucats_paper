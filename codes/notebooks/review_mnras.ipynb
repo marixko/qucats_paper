{
 "cells": [
  {
   "cell_type": "code",
   "execution_count": 2,
   "metadata": {},
   "outputs": [],
   "source": [
    "from pathlib import Path\n",
    "import os\n",
    "import sys\n",
    "if str(Path.cwd().parent) not in sys.path:\n",
    "    sys.path.append(str(Path.cwd().parent))\n",
    "from utils.crossvalidation import xval\n",
    "from settings.paths import match_path, img_path, rf_path, bnn_path, flex_path\n",
    "import pandas as pd\n",
    "import matplotlib.pyplot as plt\n",
    "from utils.preprocessing import create_bins, prep_data, rename_aper\n",
    "from settings.columns import specz, calculate_colors, create_colors, list_feat\n",
    "from utils.metrics import nmad, bias ,out_frac, rmse, mse\n",
    "import warnings\n",
    "import numpy as np\n",
    "from utils.metrics import nmad, out_frac, bias, rmse\n",
    "from sklearn.ensemble import RandomForestRegressor\n",
    "from sklearn.model_selection import train_test_split\n",
    "from sklearn.model_selection import StratifiedKFold\n",
    "from cycler import cycler\n",
    "from sklearn.model_selection import GridSearchCV\n",
    "from utils.preprocessing import create_bins\n",
    "from utils.crossvalidation import metric_per_bin\n",
    "from utils.preprocessing import create_bins, prep_data, rename_aper\n",
    "\n",
    "plt.rcParams[\"font.size\"] = 22\n",
    "blue = (0, 0.48, 0.70)\n",
    "orange = (230/255,159/255, 0)\n",
    "yellow = (0.94, 0.89, 0.26)\n",
    "pink = (0.8, 0.47, 0.65)\n",
    "CB_color_cycle = ['#377eb8', '#ff7f00', '#4daf4a',\n",
    "                  '#f781bf', '#a65628', '#984ea3',\n",
    "                  '#999999', '#e41a1c', '#dede00']\n",
    "plt.rcParams['axes.prop_cycle'] = cycler('color', CB_color_cycle)\n",
    "\n",
    "warnings.filterwarnings(\"ignore\")\n",
    "%load_ext autoreload\n",
    "%autoreload 2\n"
   ]
  },
  {
   "cell_type": "markdown",
   "metadata": {},
   "source": [
    "# Checking unWISE x Legacy dr10"
   ]
  },
  {
   "cell_type": "code",
   "execution_count": 6,
   "metadata": {},
   "outputs": [],
   "source": [
    "data = pd.read_table(\"/home/mariko/Research/Projects/qucats_paper/data/referee/SPLUS_unWISE2_legacydr101_field_041.txt\", sep=\",\")"
   ]
  },
  {
   "cell_type": "code",
   "execution_count": 7,
   "metadata": {},
   "outputs": [
    {
     "data": {
      "text/plain": [
       "26790"
      ]
     },
     "execution_count": 7,
     "metadata": {},
     "output_type": "execute_result"
    }
   ],
   "source": [
    "#how many objects with unWISE match?\n",
    "len(data.dropna(subset=[\"RAdeg\"], inplace=False))"
   ]
  },
  {
   "cell_type": "code",
   "execution_count": 8,
   "metadata": {},
   "outputs": [
    {
     "data": {
      "text/plain": [
       "41349"
      ]
     },
     "execution_count": 8,
     "metadata": {},
     "output_type": "execute_result"
    }
   ],
   "source": [
    "#how many objects with Legacy match?\n",
    "len(data.dropna(subset=[\"Separation\"], inplace=False))"
   ]
  },
  {
   "cell_type": "code",
   "execution_count": 9,
   "metadata": {},
   "outputs": [],
   "source": [
    "l10_matches = data.dropna(subset=[\"Separation\"], inplace=False)\n",
    "unwise_matches = data.dropna(subset=[\"RAdeg\"], inplace=False)"
   ]
  },
  {
   "cell_type": "code",
   "execution_count": 10,
   "metadata": {},
   "outputs": [
    {
     "data": {
      "text/plain": [
       "51114"
      ]
     },
     "execution_count": 10,
     "metadata": {},
     "output_type": "execute_result"
    }
   ],
   "source": [
    "len(data)"
   ]
  },
  {
   "cell_type": "code",
   "execution_count": 11,
   "metadata": {},
   "outputs": [],
   "source": [
    "data.loc[data[\"FW1\"]==0, \"FW1\"] = 0.001\n",
    "data.loc[data[\"FW2\"]==0, \"FW2\"] = 0.001\n",
    "\n",
    "data[\"W1_MAG_unWISE\"] = -2.5 * np.log10(data[\"FW1\"]) + 22.5 +2.699\n",
    "data[\"W2_MAG_unWISE\"] = -2.5 * np.log10(data[\"FW2\"]) + 22.5 +3.339\n",
    "# data[\"e_W1_MAG\"] = 2.5 * data[\"e_FW1\"] / (data[\"FW1\"] * np.log(10))\n",
    "# data[\"e_W2_MAG\"] = 2.5  * data[\"e_FW1\"] / (data[\"FW2\"] * np.log(10)) \n",
    "\n",
    "# insert missing value\n",
    "data['W1_MAG_unWISE'].fillna(np.NaN, inplace=True)\n",
    "data['W2_MAG_unWISE'].fillna(np.NaN, inplace=True)\n",
    "data.loc[data[\"W1_MAG_unWISE\"]>25, \"W1_MAG_unWISE\"] = np.NaN\n",
    "data.loc[data[\"W2_MAG_unWISE\"]>25, \"W2_MAG_unWISE\"] = np.NaN\n",
    "\n",
    "data.loc[data[\"flux_w1\"]==0, \"flux_w1\"] = 0.001\n",
    "data.loc[data[\"flux_w2\"]==0, \"flux_w2\"] = 0.001\n",
    "\n",
    "data[\"W1_MAG_DESI\"] = -2.5 * np.log10(data[\"flux_w1\"]) + 22.5\n",
    "data[\"W2_MAG_DESI\"] = -2.5 * np.log10(data[\"flux_w2\"]) + 22.5\n",
    "# data[\"e_W1_MAG\"] = 2.5 * data[\"e_FW1\"] / (data[\"FW1\"] * np.log(10))\n",
    "# data[\"e_W2_MAG\"] = 2.5  * data[\"e_FW1\"] / (data[\"FW2\"] * np.log(10)) \n",
    "\n",
    "# insert missing value\n",
    "data['W1_MAG_DESI'].fillna(np.NaN, inplace=True)\n",
    "data['W2_MAG_DESI'].fillna(np.NaN, inplace=True)\n",
    "data.loc[data[\"W1_MAG_DESI\"]>25, \"W1_MAG_DESI\"] = np.NaN\n",
    "data.loc[data[\"W2_MAG_DESI\"]>25, \"W2_MAG_DESI\"] = np.NaN"
   ]
  },
  {
   "cell_type": "code",
   "execution_count": 12,
   "metadata": {},
   "outputs": [
    {
     "name": "stdout",
     "output_type": "stream",
     "text": [
      "26688\n",
      "38261\n",
      "25958\n"
     ]
    }
   ],
   "source": [
    "# W1\n",
    "\n",
    "print(len(data.dropna(subset=[\"W1_MAG_unWISE\"], inplace=False)))\n",
    "print(len(data.dropna(subset=[\"W1_MAG_DESI\"], inplace=False)))\n",
    "print(len(data.dropna(subset=[\"W1_MAG_DESI\"], inplace=False).dropna(subset=[\"W1_MAG_unWISE\"], inplace=False)))"
   ]
  },
  {
   "cell_type": "code",
   "execution_count": 13,
   "metadata": {},
   "outputs": [
    {
     "ename": "KeyError",
     "evalue": "'W1_MAG_DESI'",
     "output_type": "error",
     "traceback": [
      "\u001b[0;31m---------------------------------------------------------------------------\u001b[0m",
      "\u001b[0;31mKeyError\u001b[0m                                  Traceback (most recent call last)",
      "\u001b[0;32m~/anaconda3/envs/research/lib/python3.9/site-packages/pandas/core/indexes/base.py\u001b[0m in \u001b[0;36mget_loc\u001b[0;34m(self, key, method, tolerance)\u001b[0m\n\u001b[1;32m   3360\u001b[0m             \u001b[0;32mtry\u001b[0m\u001b[0;34m:\u001b[0m\u001b[0;34m\u001b[0m\u001b[0;34m\u001b[0m\u001b[0m\n\u001b[0;32m-> 3361\u001b[0;31m                 \u001b[0;32mreturn\u001b[0m \u001b[0mself\u001b[0m\u001b[0;34m.\u001b[0m\u001b[0m_engine\u001b[0m\u001b[0;34m.\u001b[0m\u001b[0mget_loc\u001b[0m\u001b[0;34m(\u001b[0m\u001b[0mcasted_key\u001b[0m\u001b[0;34m)\u001b[0m\u001b[0;34m\u001b[0m\u001b[0;34m\u001b[0m\u001b[0m\n\u001b[0m\u001b[1;32m   3362\u001b[0m             \u001b[0;32mexcept\u001b[0m \u001b[0mKeyError\u001b[0m \u001b[0;32mas\u001b[0m \u001b[0merr\u001b[0m\u001b[0;34m:\u001b[0m\u001b[0;34m\u001b[0m\u001b[0;34m\u001b[0m\u001b[0m\n",
      "\u001b[0;32m~/anaconda3/envs/research/lib/python3.9/site-packages/pandas/_libs/index.pyx\u001b[0m in \u001b[0;36mpandas._libs.index.IndexEngine.get_loc\u001b[0;34m()\u001b[0m\n",
      "\u001b[0;32m~/anaconda3/envs/research/lib/python3.9/site-packages/pandas/_libs/index.pyx\u001b[0m in \u001b[0;36mpandas._libs.index.IndexEngine.get_loc\u001b[0;34m()\u001b[0m\n",
      "\u001b[0;32mpandas/_libs/hashtable_class_helper.pxi\u001b[0m in \u001b[0;36mpandas._libs.hashtable.PyObjectHashTable.get_item\u001b[0;34m()\u001b[0m\n",
      "\u001b[0;32mpandas/_libs/hashtable_class_helper.pxi\u001b[0m in \u001b[0;36mpandas._libs.hashtable.PyObjectHashTable.get_item\u001b[0;34m()\u001b[0m\n",
      "\u001b[0;31mKeyError\u001b[0m: 'W1_MAG_DESI'",
      "\nThe above exception was the direct cause of the following exception:\n",
      "\u001b[0;31mKeyError\u001b[0m                                  Traceback (most recent call last)",
      "\u001b[0;32m/tmp/ipykernel_61356/4291423412.py\u001b[0m in \u001b[0;36m<module>\u001b[0;34m\u001b[0m\n\u001b[0;32m----> 1\u001b[0;31m \u001b[0mprint\u001b[0m\u001b[0;34m(\u001b[0m\u001b[0ml10_matches\u001b[0m\u001b[0;34m[\u001b[0m\u001b[0ml10_matches\u001b[0m\u001b[0;34m[\u001b[0m\u001b[0;34m\"W1_MAG_DESI\"\u001b[0m\u001b[0;34m]\u001b[0m\u001b[0;34m.\u001b[0m\u001b[0misna\u001b[0m\u001b[0;34m(\u001b[0m\u001b[0;34m)\u001b[0m\u001b[0;34m]\u001b[0m\u001b[0;34m[\u001b[0m\u001b[0;34m\"W1_MAG_unWISE\"\u001b[0m\u001b[0;34m]\u001b[0m\u001b[0;34m.\u001b[0m\u001b[0misna\u001b[0m\u001b[0;34m(\u001b[0m\u001b[0;34m)\u001b[0m\u001b[0;34m.\u001b[0m\u001b[0msum\u001b[0m\u001b[0;34m(\u001b[0m\u001b[0;34m)\u001b[0m\u001b[0;34m)\u001b[0m\u001b[0;34m\u001b[0m\u001b[0;34m\u001b[0m\u001b[0m\n\u001b[0m\u001b[1;32m      2\u001b[0m \u001b[0mprint\u001b[0m\u001b[0;34m(\u001b[0m\u001b[0;34m)\u001b[0m\u001b[0;34m\u001b[0m\u001b[0;34m\u001b[0m\u001b[0m\n\u001b[1;32m      3\u001b[0m \u001b[0mprint\u001b[0m\u001b[0;34m(\u001b[0m\u001b[0ml10_matches\u001b[0m\u001b[0;34m[\u001b[0m\u001b[0;34m~\u001b[0m\u001b[0ml10_matches\u001b[0m\u001b[0;34m[\u001b[0m\u001b[0;34m\"W1_MAG_DESI\"\u001b[0m\u001b[0;34m]\u001b[0m\u001b[0;34m.\u001b[0m\u001b[0misna\u001b[0m\u001b[0;34m(\u001b[0m\u001b[0;34m)\u001b[0m\u001b[0;34m]\u001b[0m\u001b[0;34m[\u001b[0m\u001b[0;34m\"W1_MAG_unWISE\"\u001b[0m\u001b[0;34m]\u001b[0m\u001b[0;34m.\u001b[0m\u001b[0misna\u001b[0m\u001b[0;34m(\u001b[0m\u001b[0;34m)\u001b[0m\u001b[0;34m.\u001b[0m\u001b[0msum\u001b[0m\u001b[0;34m(\u001b[0m\u001b[0;34m)\u001b[0m\u001b[0;34m)\u001b[0m\u001b[0;34m\u001b[0m\u001b[0;34m\u001b[0m\u001b[0m\n\u001b[1;32m      4\u001b[0m \u001b[0mprint\u001b[0m\u001b[0;34m(\u001b[0m\u001b[0;34m)\u001b[0m\u001b[0;34m\u001b[0m\u001b[0;34m\u001b[0m\u001b[0m\n\u001b[1;32m      5\u001b[0m \u001b[0mprint\u001b[0m\u001b[0;34m(\u001b[0m\u001b[0ml10_matches\u001b[0m\u001b[0;34m[\u001b[0m\u001b[0;34m~\u001b[0m\u001b[0ml10_matches\u001b[0m\u001b[0;34m[\u001b[0m\u001b[0;34m\"W1_MAG_unWISE\"\u001b[0m\u001b[0;34m]\u001b[0m\u001b[0;34m.\u001b[0m\u001b[0misna\u001b[0m\u001b[0;34m(\u001b[0m\u001b[0;34m)\u001b[0m\u001b[0;34m]\u001b[0m\u001b[0;34m[\u001b[0m\u001b[0;34m\"W1_MAG_DESI\"\u001b[0m\u001b[0;34m]\u001b[0m\u001b[0;34m.\u001b[0m\u001b[0misna\u001b[0m\u001b[0;34m(\u001b[0m\u001b[0;34m)\u001b[0m\u001b[0;34m.\u001b[0m\u001b[0msum\u001b[0m\u001b[0;34m(\u001b[0m\u001b[0;34m)\u001b[0m\u001b[0;34m)\u001b[0m\u001b[0;34m\u001b[0m\u001b[0;34m\u001b[0m\u001b[0m\n",
      "\u001b[0;32m~/anaconda3/envs/research/lib/python3.9/site-packages/pandas/core/frame.py\u001b[0m in \u001b[0;36m__getitem__\u001b[0;34m(self, key)\u001b[0m\n\u001b[1;32m   3456\u001b[0m             \u001b[0;32mif\u001b[0m \u001b[0mself\u001b[0m\u001b[0;34m.\u001b[0m\u001b[0mcolumns\u001b[0m\u001b[0;34m.\u001b[0m\u001b[0mnlevels\u001b[0m \u001b[0;34m>\u001b[0m \u001b[0;36m1\u001b[0m\u001b[0;34m:\u001b[0m\u001b[0;34m\u001b[0m\u001b[0;34m\u001b[0m\u001b[0m\n\u001b[1;32m   3457\u001b[0m                 \u001b[0;32mreturn\u001b[0m \u001b[0mself\u001b[0m\u001b[0;34m.\u001b[0m\u001b[0m_getitem_multilevel\u001b[0m\u001b[0;34m(\u001b[0m\u001b[0mkey\u001b[0m\u001b[0;34m)\u001b[0m\u001b[0;34m\u001b[0m\u001b[0;34m\u001b[0m\u001b[0m\n\u001b[0;32m-> 3458\u001b[0;31m             \u001b[0mindexer\u001b[0m \u001b[0;34m=\u001b[0m \u001b[0mself\u001b[0m\u001b[0;34m.\u001b[0m\u001b[0mcolumns\u001b[0m\u001b[0;34m.\u001b[0m\u001b[0mget_loc\u001b[0m\u001b[0;34m(\u001b[0m\u001b[0mkey\u001b[0m\u001b[0;34m)\u001b[0m\u001b[0;34m\u001b[0m\u001b[0;34m\u001b[0m\u001b[0m\n\u001b[0m\u001b[1;32m   3459\u001b[0m             \u001b[0;32mif\u001b[0m \u001b[0mis_integer\u001b[0m\u001b[0;34m(\u001b[0m\u001b[0mindexer\u001b[0m\u001b[0;34m)\u001b[0m\u001b[0;34m:\u001b[0m\u001b[0;34m\u001b[0m\u001b[0;34m\u001b[0m\u001b[0m\n\u001b[1;32m   3460\u001b[0m                 \u001b[0mindexer\u001b[0m \u001b[0;34m=\u001b[0m \u001b[0;34m[\u001b[0m\u001b[0mindexer\u001b[0m\u001b[0;34m]\u001b[0m\u001b[0;34m\u001b[0m\u001b[0;34m\u001b[0m\u001b[0m\n",
      "\u001b[0;32m~/anaconda3/envs/research/lib/python3.9/site-packages/pandas/core/indexes/base.py\u001b[0m in \u001b[0;36mget_loc\u001b[0;34m(self, key, method, tolerance)\u001b[0m\n\u001b[1;32m   3361\u001b[0m                 \u001b[0;32mreturn\u001b[0m \u001b[0mself\u001b[0m\u001b[0;34m.\u001b[0m\u001b[0m_engine\u001b[0m\u001b[0;34m.\u001b[0m\u001b[0mget_loc\u001b[0m\u001b[0;34m(\u001b[0m\u001b[0mcasted_key\u001b[0m\u001b[0;34m)\u001b[0m\u001b[0;34m\u001b[0m\u001b[0;34m\u001b[0m\u001b[0m\n\u001b[1;32m   3362\u001b[0m             \u001b[0;32mexcept\u001b[0m \u001b[0mKeyError\u001b[0m \u001b[0;32mas\u001b[0m \u001b[0merr\u001b[0m\u001b[0;34m:\u001b[0m\u001b[0;34m\u001b[0m\u001b[0;34m\u001b[0m\u001b[0m\n\u001b[0;32m-> 3363\u001b[0;31m                 \u001b[0;32mraise\u001b[0m \u001b[0mKeyError\u001b[0m\u001b[0;34m(\u001b[0m\u001b[0mkey\u001b[0m\u001b[0;34m)\u001b[0m \u001b[0;32mfrom\u001b[0m \u001b[0merr\u001b[0m\u001b[0;34m\u001b[0m\u001b[0;34m\u001b[0m\u001b[0m\n\u001b[0m\u001b[1;32m   3364\u001b[0m \u001b[0;34m\u001b[0m\u001b[0m\n\u001b[1;32m   3365\u001b[0m         \u001b[0;32mif\u001b[0m \u001b[0mis_scalar\u001b[0m\u001b[0;34m(\u001b[0m\u001b[0mkey\u001b[0m\u001b[0;34m)\u001b[0m \u001b[0;32mand\u001b[0m \u001b[0misna\u001b[0m\u001b[0;34m(\u001b[0m\u001b[0mkey\u001b[0m\u001b[0;34m)\u001b[0m \u001b[0;32mand\u001b[0m \u001b[0;32mnot\u001b[0m \u001b[0mself\u001b[0m\u001b[0;34m.\u001b[0m\u001b[0mhasnans\u001b[0m\u001b[0;34m:\u001b[0m\u001b[0;34m\u001b[0m\u001b[0;34m\u001b[0m\u001b[0m\n",
      "\u001b[0;31mKeyError\u001b[0m: 'W1_MAG_DESI'"
     ]
    }
   ],
   "source": [
    "print(l10_matches[l10_matches[\"W1_MAG_DESI\"].isna()][\"W1_MAG_unWISE\"].isna().sum())\n",
    "print()\n",
    "print(l10_matches[~l10_matches[\"W1_MAG_DESI\"].isna()][\"W1_MAG_unWISE\"].isna().sum())\n",
    "print()\n",
    "print(l10_matches[~l10_matches[\"W1_MAG_unWISE\"].isna()][\"W1_MAG_DESI\"].isna().sum())"
   ]
  },
  {
   "cell_type": "code",
   "execution_count": null,
   "metadata": {},
   "outputs": [
    {
     "name": "stdout",
     "output_type": "stream",
     "text": [
      "22\n",
      "\n",
      "80\n",
      "\n",
      "730\n"
     ]
    }
   ],
   "source": [
    "print(unwise_matches[unwise_matches[\"W1_MAG_DESI\"].isna()][\"W1_MAG_unWISE\"].isna().sum())\n",
    "print()\n",
    "print(unwise_matches[~unwise_matches[\"W1_MAG_DESI\"].isna()][\"W1_MAG_unWISE\"].isna().sum())\n",
    "print()\n",
    "print(unwise_matches[~unwise_matches[\"W1_MAG_unWISE\"].isna()][\"W1_MAG_DESI\"].isna().sum())"
   ]
  },
  {
   "cell_type": "code",
   "execution_count": null,
   "metadata": {},
   "outputs": [
    {
     "name": "stderr",
     "output_type": "stream",
     "text": [
      "/tmp/ipykernel_76555/3305023330.py:12: DeprecationWarning: Please use `gaussian_kde` from the `scipy.stats` namespace, the `scipy.stats.kde` namespace is deprecated.\n",
      "  kde = kde.gaussian_kde([matches_only[\"W1_MAG_unWISE\"], matches_only[\"W1_MAG_unWISE\"]-matches_only[\"W1_MAG_DESI\"]])\n"
     ]
    },
    {
     "data": {
      "text/plain": [
       "(8.0, 22.0)"
      ]
     },
     "execution_count": 64,
     "metadata": {},
     "output_type": "execute_result"
    },
    {
     "data": {
      "image/png": "[encoded data removed]",
      "text/plain": [
       "<Figure size 640x480 with 1 Axes>"
      ]
     },
     "metadata": {},
     "output_type": "display_data"
    }
   ],
   "source": [
    "import matplotlib.pyplot as plt\n",
    "\n",
    "matches_only = data.dropna(subset=[\"W1_MAG_DESI\"], inplace=False).dropna(subset=[\"W1_MAG_unWISE\"], inplace=False)\n",
    "\n",
    "plt.scatter(matches_only[\"W1_MAG_unWISE\"], matches_only[\"W1_MAG_unWISE\"]-matches_only[\"W1_MAG_DESI\"], s=1)\n",
    "plt.xlabel(\"unWISE\")\n",
    "plt.ylabel(\"unWISE - LDR10\")\n",
    "plt.title(\"W1\")\n",
    "\n",
    "# add contours\n",
    "from scipy.stats import kde\n",
    "kde = kde.gaussian_kde([matches_only[\"W1_MAG_unWISE\"], matches_only[\"W1_MAG_unWISE\"]-matches_only[\"W1_MAG_DESI\"]])\n",
    "xgrid = np.linspace(-8, 22, 100)\n",
    "ygrid = np.linspace(-6, 2, 100)\n",
    "Xgrid, Ygrid = np.meshgrid(xgrid, ygrid)\n",
    "Z = kde.evaluate(np.vstack([Xgrid.ravel(), Ygrid.ravel()]))\n",
    "Z = Z.reshape(Xgrid.shape)\n",
    "CS = plt.contour(Xgrid, Ygrid, Z, levels=5, colors=\"black\")\n",
    "CS.collections[0].remove()\n",
    "plt.xlim(8,22)\n",
    "\n"
   ]
  },
  {
   "cell_type": "code",
   "execution_count": null,
   "metadata": {},
   "outputs": [],
   "source": []
  },
  {
   "cell_type": "markdown",
   "metadata": {},
   "source": []
  },
  {
   "cell_type": "markdown",
   "metadata": {},
   "source": [
    "# GALEX non-observations"
   ]
  },
  {
   "cell_type": "code",
   "execution_count": 3,
   "metadata": {},
   "outputs": [],
   "source": [
    "from utils.correct_extinction import correction\n",
    "aper = \"PStotal\""
   ]
  },
  {
   "cell_type": "code",
   "execution_count": 4,
   "metadata": {},
   "outputs": [],
   "source": [
    "table = pd.read_table(os.path.join(match_path,\"STRIPE82_DR4_DR16Q1a_unWISE2a_GALEXDR672a.csv\"), sep=\",\")\n",
    "table = rename_aper(table)"
   ]
  },
  {
   "cell_type": "code",
   "execution_count": 9,
   "metadata": {},
   "outputs": [
    {
     "name": "stdout",
     "output_type": "stream",
     "text": [
      "37978\n",
      "10455\n"
     ]
    }
   ],
   "source": [
    "print(len(table[\"name\"]))\n",
    "print(len(table.dropna(subset=[\"name\"], inplace=False)))"
   ]
  },
  {
   "cell_type": "code",
   "execution_count": 23,
   "metadata": {},
   "outputs": [
    {
     "name": "stdout",
     "output_type": "stream",
     "text": [
      "27523 10455\n"
     ]
    }
   ],
   "source": [
    "galex_obs = table.dropna(subset=[\"name\"], inplace=False)\n",
    "non_obs = table[table[\"name\"].isna()]\n"
   ]
  },
  {
   "cell_type": "code",
   "execution_count": null,
   "metadata": {},
   "outputs": [],
   "source": []
  },
  {
   "cell_type": "markdown",
   "metadata": {},
   "source": [
    "# Tests"
   ]
  },
  {
   "cell_type": "code",
   "execution_count": 3,
   "metadata": {},
   "outputs": [
    {
     "data": {
      "text/html": [
       "<div>\n",
       "<style scoped>\n",
       "    .dataframe tbody tr th:only-of-type {\n",
       "        vertical-align: middle;\n",
       "    }\n",
       "\n",
       "    .dataframe tbody tr th {\n",
       "        vertical-align: top;\n",
       "    }\n",
       "\n",
       "    .dataframe thead th {\n",
       "        text-align: right;\n",
       "    }\n",
       "</style>\n",
       "<table border=\"1\" class=\"dataframe\">\n",
       "  <thead>\n",
       "    <tr style=\"text-align: right;\">\n",
       "      <th></th>\n",
       "      <th>ID</th>\n",
       "      <th>PHOT_ID_dual_1</th>\n",
       "      <th>RA_1</th>\n",
       "      <th>DEC_1</th>\n",
       "      <th>A</th>\n",
       "      <th>B</th>\n",
       "      <th>KRON_RADIUS</th>\n",
       "      <th>FWHM_n</th>\n",
       "      <th>MU_MAX_INST</th>\n",
       "      <th>ISOarea</th>\n",
       "      <th>...</th>\n",
       "      <th>primid</th>\n",
       "      <th>groupid</th>\n",
       "      <th>Gd</th>\n",
       "      <th>Nd</th>\n",
       "      <th>primidd</th>\n",
       "      <th>groupidd</th>\n",
       "      <th>grouptot</th>\n",
       "      <th>OName</th>\n",
       "      <th>Size</th>\n",
       "      <th>angDist_x</th>\n",
       "    </tr>\n",
       "  </thead>\n",
       "  <tbody>\n",
       "    <tr>\n",
       "      <th>0</th>\n",
       "      <td>b'iDR4_3_STRIPE82-0044_0000186                ...</td>\n",
       "      <td>b'iDR4_3_STRIPE82-0044_dual_0000186           ...</td>\n",
       "      <td>29.157186</td>\n",
       "      <td>0.036686</td>\n",
       "      <td>0.000185</td>\n",
       "      <td>0.000161</td>\n",
       "      <td>4.418086</td>\n",
       "      <td>0.965081</td>\n",
       "      <td>18.746910</td>\n",
       "      <td>3.034337e-07</td>\n",
       "      <td>...</td>\n",
       "      <td>NaN</td>\n",
       "      <td>NaN</td>\n",
       "      <td>NaN</td>\n",
       "      <td>NaN</td>\n",
       "      <td>NaN</td>\n",
       "      <td>NaN</td>\n",
       "      <td>NaN</td>\n",
       "      <td>NaN</td>\n",
       "      <td>NaN</td>\n",
       "      <td>NaN</td>\n",
       "    </tr>\n",
       "    <tr>\n",
       "      <th>1</th>\n",
       "      <td>b'iDR4_3_STRIPE82-0044_0000279                ...</td>\n",
       "      <td>b'iDR4_3_STRIPE82-0044_dual_0000279           ...</td>\n",
       "      <td>29.346369</td>\n",
       "      <td>0.039853</td>\n",
       "      <td>0.000167</td>\n",
       "      <td>0.000140</td>\n",
       "      <td>5.339382</td>\n",
       "      <td>0.979935</td>\n",
       "      <td>19.640038</td>\n",
       "      <td>1.633874e-07</td>\n",
       "      <td>...</td>\n",
       "      <td>NaN</td>\n",
       "      <td>NaN</td>\n",
       "      <td>NaN</td>\n",
       "      <td>NaN</td>\n",
       "      <td>NaN</td>\n",
       "      <td>NaN</td>\n",
       "      <td>NaN</td>\n",
       "      <td>NaN</td>\n",
       "      <td>NaN</td>\n",
       "      <td>NaN</td>\n",
       "    </tr>\n",
       "    <tr>\n",
       "      <th>2</th>\n",
       "      <td>b'iDR4_3_STRIPE82-0044_0000284                ...</td>\n",
       "      <td>b'iDR4_3_STRIPE82-0044_dual_0000284           ...</td>\n",
       "      <td>30.190632</td>\n",
       "      <td>0.040137</td>\n",
       "      <td>0.000162</td>\n",
       "      <td>0.000123</td>\n",
       "      <td>1.820000</td>\n",
       "      <td>1.425208</td>\n",
       "      <td>19.901010</td>\n",
       "      <td>9.336420e-08</td>\n",
       "      <td>...</td>\n",
       "      <td>NaN</td>\n",
       "      <td>NaN</td>\n",
       "      <td>NaN</td>\n",
       "      <td>NaN</td>\n",
       "      <td>NaN</td>\n",
       "      <td>NaN</td>\n",
       "      <td>NaN</td>\n",
       "      <td>NaN</td>\n",
       "      <td>NaN</td>\n",
       "      <td>NaN</td>\n",
       "    </tr>\n",
       "    <tr>\n",
       "      <th>3</th>\n",
       "      <td>b'iDR4_3_STRIPE82-0044_0000362                ...</td>\n",
       "      <td>b'iDR4_3_STRIPE82-0044_dual_0000362           ...</td>\n",
       "      <td>28.995541</td>\n",
       "      <td>0.042112</td>\n",
       "      <td>0.000188</td>\n",
       "      <td>0.000146</td>\n",
       "      <td>5.601652</td>\n",
       "      <td>0.946742</td>\n",
       "      <td>18.901420</td>\n",
       "      <td>2.100695e-07</td>\n",
       "      <td>...</td>\n",
       "      <td>6.380380e+18</td>\n",
       "      <td>6380380368759947800+6380380379497370100</td>\n",
       "      <td>1.0</td>\n",
       "      <td>2.0</td>\n",
       "      <td>6.380380e+18</td>\n",
       "      <td>6380380368759947800+6380380379497370100</td>\n",
       "      <td>6380380368759947800+6380380379497370100</td>\n",
       "      <td>N</td>\n",
       "      <td>0.0</td>\n",
       "      <td>0.863697</td>\n",
       "    </tr>\n",
       "    <tr>\n",
       "      <th>4</th>\n",
       "      <td>b'iDR4_3_STRIPE82-0044_0000395                ...</td>\n",
       "      <td>b'iDR4_3_STRIPE82-0044_dual_0000395           ...</td>\n",
       "      <td>29.374085</td>\n",
       "      <td>0.042780</td>\n",
       "      <td>0.000222</td>\n",
       "      <td>0.000190</td>\n",
       "      <td>4.289654</td>\n",
       "      <td>0.989299</td>\n",
       "      <td>17.395239</td>\n",
       "      <td>4.434800e-07</td>\n",
       "      <td>...</td>\n",
       "      <td>NaN</td>\n",
       "      <td>NaN</td>\n",
       "      <td>NaN</td>\n",
       "      <td>NaN</td>\n",
       "      <td>NaN</td>\n",
       "      <td>NaN</td>\n",
       "      <td>NaN</td>\n",
       "      <td>NaN</td>\n",
       "      <td>NaN</td>\n",
       "      <td>NaN</td>\n",
       "    </tr>\n",
       "    <tr>\n",
       "      <th>...</th>\n",
       "      <td>...</td>\n",
       "      <td>...</td>\n",
       "      <td>...</td>\n",
       "      <td>...</td>\n",
       "      <td>...</td>\n",
       "      <td>...</td>\n",
       "      <td>...</td>\n",
       "      <td>...</td>\n",
       "      <td>...</td>\n",
       "      <td>...</td>\n",
       "      <td>...</td>\n",
       "      <td>...</td>\n",
       "      <td>...</td>\n",
       "      <td>...</td>\n",
       "      <td>...</td>\n",
       "      <td>...</td>\n",
       "      <td>...</td>\n",
       "      <td>...</td>\n",
       "      <td>...</td>\n",
       "      <td>...</td>\n",
       "      <td>...</td>\n",
       "    </tr>\n",
       "    <tr>\n",
       "      <th>37973</th>\n",
       "      <td>b'iDR4_3_STRIPE82-0105_0074056                ...</td>\n",
       "      <td>b'iDR4_3_STRIPE82-0105_dual_0074056           ...</td>\n",
       "      <td>313.233758</td>\n",
       "      <td>-0.219212</td>\n",
       "      <td>0.000211</td>\n",
       "      <td>0.000187</td>\n",
       "      <td>5.257678</td>\n",
       "      <td>1.221635</td>\n",
       "      <td>19.408695</td>\n",
       "      <td>2.567515e-07</td>\n",
       "      <td>...</td>\n",
       "      <td>6.379430e+18</td>\n",
       "      <td>6379430473391673559</td>\n",
       "      <td>0.0</td>\n",
       "      <td>1.0</td>\n",
       "      <td>6.379430e+18</td>\n",
       "      <td>6379430473391673559</td>\n",
       "      <td>6379430473391673559</td>\n",
       "      <td>N</td>\n",
       "      <td>0.0</td>\n",
       "      <td>1.410358</td>\n",
       "    </tr>\n",
       "    <tr>\n",
       "      <th>37974</th>\n",
       "      <td>b'iDR4_3_STRIPE82-0105_0075952                ...</td>\n",
       "      <td>b'iDR4_3_STRIPE82-0105_dual_0075952           ...</td>\n",
       "      <td>313.006729</td>\n",
       "      <td>0.014315</td>\n",
       "      <td>0.000271</td>\n",
       "      <td>0.000246</td>\n",
       "      <td>4.077143</td>\n",
       "      <td>1.030742</td>\n",
       "      <td>17.196903</td>\n",
       "      <td>1.120370e-06</td>\n",
       "      <td>...</td>\n",
       "      <td>6.379430e+18</td>\n",
       "      <td>6379430462656349717+6379430473393771476</td>\n",
       "      <td>1.0</td>\n",
       "      <td>2.0</td>\n",
       "      <td>6.379430e+18</td>\n",
       "      <td>6379430462656349717+6379430473393771476</td>\n",
       "      <td>6379430462656349717+6379430473393771476</td>\n",
       "      <td>N</td>\n",
       "      <td>0.0</td>\n",
       "      <td>0.589719</td>\n",
       "    </tr>\n",
       "    <tr>\n",
       "      <th>37975</th>\n",
       "      <td>b'iDR4_3_STRIPE82-0105_0076570                ...</td>\n",
       "      <td>b'iDR4_3_STRIPE82-0105_dual_0076570           ...</td>\n",
       "      <td>313.227521</td>\n",
       "      <td>0.014055</td>\n",
       "      <td>0.000246</td>\n",
       "      <td>0.000203</td>\n",
       "      <td>3.642726</td>\n",
       "      <td>1.000247</td>\n",
       "      <td>18.232796</td>\n",
       "      <td>5.835263e-07</td>\n",
       "      <td>...</td>\n",
       "      <td>6.379430e+18</td>\n",
       "      <td>6379430472317928415</td>\n",
       "      <td>0.0</td>\n",
       "      <td>1.0</td>\n",
       "      <td>6.379430e+18</td>\n",
       "      <td>6379430472317928415</td>\n",
       "      <td>6379430472317928415</td>\n",
       "      <td>N</td>\n",
       "      <td>0.0</td>\n",
       "      <td>0.356868</td>\n",
       "    </tr>\n",
       "    <tr>\n",
       "      <th>37976</th>\n",
       "      <td>b'iDR4_3_STRIPE82-0105_0078888                ...</td>\n",
       "      <td>b'iDR4_3_STRIPE82-0105_dual_0078888           ...</td>\n",
       "      <td>313.546810</td>\n",
       "      <td>-0.043118</td>\n",
       "      <td>0.000233</td>\n",
       "      <td>0.000197</td>\n",
       "      <td>3.784242</td>\n",
       "      <td>1.037211</td>\n",
       "      <td>18.519672</td>\n",
       "      <td>5.135031e-07</td>\n",
       "      <td>...</td>\n",
       "      <td>6.379430e+18</td>\n",
       "      <td>6379430472320025337</td>\n",
       "      <td>0.0</td>\n",
       "      <td>1.0</td>\n",
       "      <td>6.379430e+18</td>\n",
       "      <td>6379430472320025337</td>\n",
       "      <td>6379430472320025337</td>\n",
       "      <td>N</td>\n",
       "      <td>0.0</td>\n",
       "      <td>0.577590</td>\n",
       "    </tr>\n",
       "    <tr>\n",
       "      <th>37977</th>\n",
       "      <td>b'iDR4_3_STRIPE82-0105_0080128                ...</td>\n",
       "      <td>b'iDR4_3_STRIPE82-0105_dual_0080128           ...</td>\n",
       "      <td>312.880730</td>\n",
       "      <td>-0.065189</td>\n",
       "      <td>0.000261</td>\n",
       "      <td>0.000228</td>\n",
       "      <td>4.440599</td>\n",
       "      <td>1.086718</td>\n",
       "      <td>18.289963</td>\n",
       "      <td>7.002315e-07</td>\n",
       "      <td>...</td>\n",
       "      <td>6.379430e+18</td>\n",
       "      <td>6379430462654252094+6379430473391674252</td>\n",
       "      <td>1.0</td>\n",
       "      <td>2.0</td>\n",
       "      <td>6.379430e+18</td>\n",
       "      <td>6379430462654252094+6379430473391674252</td>\n",
       "      <td>6379430462654252094+6379430473391674252</td>\n",
       "      <td>N</td>\n",
       "      <td>0.0</td>\n",
       "      <td>1.707601</td>\n",
       "    </tr>\n",
       "  </tbody>\n",
       "</table>\n",
       "<p>37978 rows × 529 columns</p>\n",
       "</div>"
      ],
      "text/plain": [
       "                                                      ID  \\\n",
       "0      b'iDR4_3_STRIPE82-0044_0000186                ...   \n",
       "1      b'iDR4_3_STRIPE82-0044_0000279                ...   \n",
       "2      b'iDR4_3_STRIPE82-0044_0000284                ...   \n",
       "3      b'iDR4_3_STRIPE82-0044_0000362                ...   \n",
       "4      b'iDR4_3_STRIPE82-0044_0000395                ...   \n",
       "...                                                  ...   \n",
       "37973  b'iDR4_3_STRIPE82-0105_0074056                ...   \n",
       "37974  b'iDR4_3_STRIPE82-0105_0075952                ...   \n",
       "37975  b'iDR4_3_STRIPE82-0105_0076570                ...   \n",
       "37976  b'iDR4_3_STRIPE82-0105_0078888                ...   \n",
       "37977  b'iDR4_3_STRIPE82-0105_0080128                ...   \n",
       "\n",
       "                                          PHOT_ID_dual_1        RA_1  \\\n",
       "0      b'iDR4_3_STRIPE82-0044_dual_0000186           ...   29.157186   \n",
       "1      b'iDR4_3_STRIPE82-0044_dual_0000279           ...   29.346369   \n",
       "2      b'iDR4_3_STRIPE82-0044_dual_0000284           ...   30.190632   \n",
       "3      b'iDR4_3_STRIPE82-0044_dual_0000362           ...   28.995541   \n",
       "4      b'iDR4_3_STRIPE82-0044_dual_0000395           ...   29.374085   \n",
       "...                                                  ...         ...   \n",
       "37973  b'iDR4_3_STRIPE82-0105_dual_0074056           ...  313.233758   \n",
       "37974  b'iDR4_3_STRIPE82-0105_dual_0075952           ...  313.006729   \n",
       "37975  b'iDR4_3_STRIPE82-0105_dual_0076570           ...  313.227521   \n",
       "37976  b'iDR4_3_STRIPE82-0105_dual_0078888           ...  313.546810   \n",
       "37977  b'iDR4_3_STRIPE82-0105_dual_0080128           ...  312.880730   \n",
       "\n",
       "          DEC_1         A         B  KRON_RADIUS    FWHM_n  MU_MAX_INST  \\\n",
       "0      0.036686  0.000185  0.000161     4.418086  0.965081    18.746910   \n",
       "1      0.039853  0.000167  0.000140     5.339382  0.979935    19.640038   \n",
       "2      0.040137  0.000162  0.000123     1.820000  1.425208    19.901010   \n",
       "3      0.042112  0.000188  0.000146     5.601652  0.946742    18.901420   \n",
       "4      0.042780  0.000222  0.000190     4.289654  0.989299    17.395239   \n",
       "...         ...       ...       ...          ...       ...          ...   \n",
       "37973 -0.219212  0.000211  0.000187     5.257678  1.221635    19.408695   \n",
       "37974  0.014315  0.000271  0.000246     4.077143  1.030742    17.196903   \n",
       "37975  0.014055  0.000246  0.000203     3.642726  1.000247    18.232796   \n",
       "37976 -0.043118  0.000233  0.000197     3.784242  1.037211    18.519672   \n",
       "37977 -0.065189  0.000261  0.000228     4.440599  1.086718    18.289963   \n",
       "\n",
       "            ISOarea  ...        primid  \\\n",
       "0      3.034337e-07  ...           NaN   \n",
       "1      1.633874e-07  ...           NaN   \n",
       "2      9.336420e-08  ...           NaN   \n",
       "3      2.100695e-07  ...  6.380380e+18   \n",
       "4      4.434800e-07  ...           NaN   \n",
       "...             ...  ...           ...   \n",
       "37973  2.567515e-07  ...  6.379430e+18   \n",
       "37974  1.120370e-06  ...  6.379430e+18   \n",
       "37975  5.835263e-07  ...  6.379430e+18   \n",
       "37976  5.135031e-07  ...  6.379430e+18   \n",
       "37977  7.002315e-07  ...  6.379430e+18   \n",
       "\n",
       "                                       groupid   Gd   Nd       primidd  \\\n",
       "0                                          NaN  NaN  NaN           NaN   \n",
       "1                                          NaN  NaN  NaN           NaN   \n",
       "2                                          NaN  NaN  NaN           NaN   \n",
       "3      6380380368759947800+6380380379497370100  1.0  2.0  6.380380e+18   \n",
       "4                                          NaN  NaN  NaN           NaN   \n",
       "...                                        ...  ...  ...           ...   \n",
       "37973                      6379430473391673559  0.0  1.0  6.379430e+18   \n",
       "37974  6379430462656349717+6379430473393771476  1.0  2.0  6.379430e+18   \n",
       "37975                      6379430472317928415  0.0  1.0  6.379430e+18   \n",
       "37976                      6379430472320025337  0.0  1.0  6.379430e+18   \n",
       "37977  6379430462654252094+6379430473391674252  1.0  2.0  6.379430e+18   \n",
       "\n",
       "                                      groupidd  \\\n",
       "0                                          NaN   \n",
       "1                                          NaN   \n",
       "2                                          NaN   \n",
       "3      6380380368759947800+6380380379497370100   \n",
       "4                                          NaN   \n",
       "...                                        ...   \n",
       "37973                      6379430473391673559   \n",
       "37974  6379430462656349717+6379430473393771476   \n",
       "37975                      6379430472317928415   \n",
       "37976                      6379430472320025337   \n",
       "37977  6379430462654252094+6379430473391674252   \n",
       "\n",
       "                                      grouptot  OName  Size  angDist_x  \n",
       "0                                          NaN    NaN   NaN        NaN  \n",
       "1                                          NaN    NaN   NaN        NaN  \n",
       "2                                          NaN    NaN   NaN        NaN  \n",
       "3      6380380368759947800+6380380379497370100      N   0.0   0.863697  \n",
       "4                                          NaN    NaN   NaN        NaN  \n",
       "...                                        ...    ...   ...        ...  \n",
       "37973                      6379430473391673559      N   0.0   1.410358  \n",
       "37974  6379430462656349717+6379430473393771476      N   0.0   0.589719  \n",
       "37975                      6379430472317928415      N   0.0   0.356868  \n",
       "37976                      6379430472320025337      N   0.0   0.577590  \n",
       "37977  6379430462654252094+6379430473391674252      N   0.0   1.707601  \n",
       "\n",
       "[37978 rows x 529 columns]"
      ]
     },
     "execution_count": 3,
     "metadata": {},
     "output_type": "execute_result"
    }
   ],
   "source": [
    "pd.read_table(\"/home/mariko/Research/Projects/qucats_paper/data/crossmatch/STRIPE82_DR4_DR16Q1a_unWISE2a_GALEXDR672a.csv\", sep=\",\")"
   ]
  },
  {
   "cell_type": "markdown",
   "metadata": {},
   "source": []
  }
 ],
 "metadata": {
  "kernelspec": {
   "display_name": "sqg_idr5",
   "language": "python",
   "name": "python3"
  },
  "language_info": {
   "codemirror_mode": {
    "name": "ipython",
    "version": 3
   },
   "file_extension": ".py",
   "mimetype": "text/x-python",
   "name": "python",
   "nbconvert_exporter": "python",
   "pygments_lexer": "ipython3",
   "version": "3.9.2"
  },
  "orig_nbformat": 4
 },
 "nbformat": 4,
 "nbformat_minor": 2
}
