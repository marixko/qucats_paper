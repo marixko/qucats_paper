{
 "cells": [
  {
   "cell_type": "code",
   "execution_count": 24,
   "metadata": {},
   "outputs": [
    {
     "name": "stdout",
     "output_type": "stream",
     "text": [
      "The autoreload extension is already loaded. To reload it, use:\n",
      "  %reload_ext autoreload\n"
     ]
    }
   ],
   "source": [
    "from pathlib import Path\n",
    "import os\n",
    "import sys\n",
    "if str(Path.cwd().parent) not in sys.path:\n",
    "    sys.path.append(str(Path.cwd().parent))\n",
    "    \n",
    "import warnings\n",
    "from cycler import cycler\n",
    "import numpy as np\n",
    "import pandas as pd\n",
    "import matplotlib.pyplot as plt\n",
    "from settings.paths import  validation_path, rf_path, bnn_path, flex_path\n",
    "from utils.metrics import print_metrics_xval, print_metrics_test\n",
    "\n",
    "\n",
    "\n",
    "plt.rcParams[\"font.size\"] = 22\n",
    "blue = (0, 0.48, 0.70)\n",
    "orange = (230/255,159/255, 0)\n",
    "yellow = (0.94, 0.89, 0.26)\n",
    "pink = (0.8, 0.47, 0.65)\n",
    "CB_color_cycle = ['#377eb8', '#ff7f00', '#4daf4a',\n",
    "                  '#f781bf', '#a65628', '#984ea3',\n",
    "                  '#999999', '#e41a1c', '#dede00']\n",
    "plt.rcParams['axes.prop_cycle'] = cycler('color', CB_color_cycle)\n",
    "\n",
    "warnings.filterwarnings(\"ignore\")\n",
    "%load_ext autoreload\n",
    "%autoreload 2"
   ]
  },
  {
   "cell_type": "code",
   "execution_count": 63,
   "metadata": {},
   "outputs": [
    {
     "name": "stdout",
     "output_type": "stream",
     "text": [
      "---RF---\n",
      "broad+GALEX+WISE+flags\n",
      "RMSE 0.4245 0.0101\n",
      "NMAD 0.1021 0.0028\n",
      "bias -0.0011 0.006\n",
      "n15 0.2285 0.0034\n",
      "n30 0.0705 0.0021\n",
      "broad+GALEX+WISE\n",
      "RMSE 0.4245 0.0104\n",
      "NMAD 0.1022 0.0023\n",
      "bias -0.0012 0.0063\n",
      "n15 0.227 0.0041\n",
      "n30 0.0697 0.0013\n",
      "broad+WISE+narrow\n",
      "RMSE 0.5341 0.0048\n",
      "NMAD 0.1421 0.0033\n",
      "bias 0.0022 0.0052\n",
      "n15 0.3563 0.0046\n",
      "n30 0.1457 0.0049\n",
      "broad+GALEX+WISE+narrow+flags\n",
      "RMSE 0.4101 0.0097\n",
      "NMAD 0.0926 0.0017\n",
      "bias 0.0009 0.0068\n",
      "n15 0.2177 0.0047\n",
      "n30 0.0666 0.0014\n",
      "broad+WISE+narrow+flags\n",
      "RMSE 0.5264 0.0047\n",
      "NMAD 0.1408 0.0024\n",
      "bias 0.0024 0.005\n",
      "n15 0.3477 0.0033\n",
      "n30 0.1414 0.0028\n",
      "broad+narrow\n",
      "RMSE 0.5752 0.0032\n",
      "NMAD 0.1799 0.0028\n",
      "bias 0.0006 0.003\n",
      "n15 0.4287 0.0048\n",
      "n30 0.1865 0.0032\n",
      "broad+GALEX+WISE+narrow\n",
      "RMSE 0.41 0.0095\n",
      "NMAD 0.0926 0.002\n",
      "bias 0.0009 0.0067\n",
      "n15 0.2164 0.0049\n",
      "n30 0.0662 0.0008\n",
      "broad\n",
      "RMSE 0.6463 0.0058\n",
      "NMAD 0.2173 0.0037\n",
      "bias 0.0007 0.0048\n",
      "n15 0.4921 0.0054\n",
      "n30 0.2252 0.004\n"
     ]
    }
   ],
   "source": [
    "# Metrics from crossvalidation\n",
    "print(\"---RF---\")\n",
    "for file in os.listdir(rf_path):\n",
    "    if file.endswith(\".csv\") and file.startswith(\"val\"):\n",
    "        print(file.split(\"z_\")[-1][:-4])\n",
    "        results = pd.read_csv(os.path.join(rf_path, file))\n",
    "        print_metrics_xval(results)"
   ]
  },
  {
   "cell_type": "code",
   "execution_count": null,
   "metadata": {},
   "outputs": [],
   "source": [
    "# Random Forest\n",
    "rf_all = pd.read_csv(os.path.join(rf_path,\"test_z_broad+GALEX+WISE+narrow+flags.csv\"))\n",
    "rf_broad = pd.read_csv(os.path.join(rf_path,\"test_z_broad+GALEX+WISE+flags.csv\"))\n",
    "\n",
    "# BMDN\n",
    "bmdn_all = pd.read_csv(os.path.join(bnn_path,\"bnn_BNWG_flag.csv\"))\n",
    "bmdn_broad = pd.read_csv(os.path.join(bnn_path,\"bnn_BWG_flag.csv\"))\n",
    "\n",
    "# FlexCoDE\n",
    "flex_all = pd.read_csv(os.path.join(flex_path,\"test_z_broad+GALEX+WISE+narrow+flags.csv\"))\n",
    "flex_broad = pd.read_csv(os.path.join(flex_path,\"test_z_broad+GALEX+WISE+flags.csv\"))\n",
    "\n",
    "# Test set\n",
    "test = pd.read_csv(os.path.join(validation_path,\"test.csv\"), index_col=\"index\")"
   ]
  },
  {
   "cell_type": "code",
   "execution_count": 49,
   "metadata": {},
   "outputs": [
    {
     "name": "stdout",
     "output_type": "stream",
     "text": [
      "---RF---\n",
      "Without narrow bands\n",
      "RMSE 0.4227\n",
      "NMAD 0.1003\n",
      "bias -0.0024\n",
      "n15 0.2245\n",
      "n30 0.0683\n",
      "With narrow bands\n",
      "RMSE 0.409\n",
      "NMAD 0.0889\n",
      "bias 0.0021\n",
      "n15 0.2186\n",
      "n30 0.0649\n",
      "---FlexCoDE---\n",
      "Without narrow bands\n",
      "RMSE 0.475\n",
      "NMAD 0.0851\n",
      "bias 0.0431\n",
      "n15 0.2207\n",
      "n30 0.0819\n",
      "With narrow bands\n",
      "RMSE 0.457\n",
      "NMAD 0.0394\n",
      "bias 0.0159\n",
      "n15 0.2086\n",
      "n30 0.0779\n",
      "---BMDN---\n",
      "Without narrow bands\n",
      "RMSE 0.4592\n",
      "NMAD 0.0825\n",
      "bias 0.0365\n",
      "n15 0.2072\n",
      "n30 0.0764\n",
      "With narrow bands\n",
      "RMSE 0.4282\n",
      "NMAD 0.0481\n",
      "bias 0.0199\n",
      "n15 0.1879\n",
      "n30 0.0658\n"
     ]
    }
   ],
   "source": [
    "# Metrics from testing set\n",
    "print(\"---RF---\")\n",
    "print(\"Without narrow bands\")\n",
    "print_metrics_test(test.Z.to_numpy(), rf_broad.z_pred.to_numpy())\n",
    "print(\"With narrow bands\")\n",
    "print_metrics_test(test.Z.to_numpy(), rf_all.z_pred.to_numpy())\n",
    "\n",
    "print(\"---FlexCoDE---\")\n",
    "print(\"Without narrow bands\")\n",
    "print_metrics_test(test.Z.to_numpy(), flex_broad.z_flex_peak.to_numpy())\n",
    "print(\"With narrow bands\")\n",
    "print_metrics_test(test.Z.to_numpy(), flex_all.z_flex_peak.to_numpy())\n",
    "\n",
    "print(\"---BMDN---\")\n",
    "print(\"Without narrow bands\")\n",
    "print_metrics_test(test.Z.to_numpy(), bmdn_broad.zphot.to_numpy())\n",
    "print(\"With narrow bands\")\n",
    "print_metrics_test(test.Z.to_numpy(), bmdn_all.zphot.to_numpy())\n",
    "\n"
   ]
  }
 ],
 "metadata": {
  "kernelspec": {
   "display_name": "research",
   "language": "python",
   "name": "python3"
  },
  "language_info": {
   "codemirror_mode": {
    "name": "ipython",
    "version": 3
   },
   "file_extension": ".py",
   "mimetype": "text/x-python",
   "name": "python",
   "nbconvert_exporter": "python",
   "pygments_lexer": "ipython3",
   "version": "3.9.2"
  }
 },
 "nbformat": 4,
 "nbformat_minor": 2
}
