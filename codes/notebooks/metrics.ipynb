{
 "cells": [
  {
   "cell_type": "code",
   "execution_count": 24,
   "metadata": {},
   "outputs": [
    {
     "name": "stdout",
     "output_type": "stream",
     "text": [
      "The autoreload extension is already loaded. To reload it, use:\n",
      "  %reload_ext autoreload\n"
     ]
    }
   ],
   "source": [
    "from pathlib import Path\n",
    "import os\n",
    "import sys\n",
    "if str(Path.cwd().parent) not in sys.path:\n",
    "    sys.path.append(str(Path.cwd().parent))\n",
    "    \n",
    "import warnings\n",
    "from cycler import cycler\n",
    "import numpy as np\n",
    "import pandas as pd\n",
    "import matplotlib.pyplot as plt\n",
    "from sklearn.model_selection import train_test_split, StratifiedKFold\n",
    "\n",
    "from settings.paths import match_path, validation_path, rf_path, bnn_path, flex_path\n",
    "from settings.columns import specz, calculate_colors, create_colors, list_feat\n",
    "from utils.metrics import nmad, bias ,out_frac, rmse, print_metrics_xval, print_metrics_test\n",
    "from utils.preprocessing import create_bins, rename_aper, mag_redshift_selection, prep_wise, missing_input, flag_observation\n",
    "from utils.crossvalidation import xval_results, save_folds\n",
    "\n",
    "\n",
    "plt.rcParams[\"font.size\"] = 22\n",
    "blue = (0, 0.48, 0.70)\n",
    "orange = (230/255,159/255, 0)\n",
    "yellow = (0.94, 0.89, 0.26)\n",
    "pink = (0.8, 0.47, 0.65)\n",
    "CB_color_cycle = ['#377eb8', '#ff7f00', '#4daf4a',\n",
    "                  '#f781bf', '#a65628', '#984ea3',\n",
    "                  '#999999', '#e41a1c', '#dede00']\n",
    "plt.rcParams['axes.prop_cycle'] = cycler('color', CB_color_cycle)\n",
    "\n",
    "warnings.filterwarnings(\"ignore\")\n",
    "%load_ext autoreload\n",
    "%autoreload 2"
   ]
  },
  {
   "cell_type": "code",
   "execution_count": null,
   "metadata": {},
   "outputs": [],
   "source": [
    "# Read results"
   ]
  },
  {
   "cell_type": "code",
   "execution_count": 20,
   "metadata": {},
   "outputs": [],
   "source": [
    "# Random Forest\n",
    "rf_all = pd.read_csv(os.path.join(rf_path,\"test_z_broad+GALEX+WISE+narrow+flags.csv\"))\n",
    "rf_broad = pd.read_csv(os.path.join(rf_path,\"test_z_broad+GALEX+WISE+flags.csv\"))\n",
    "\n",
    "# BMDN\n",
    "bmdn_all = pd.read_csv(os.path.join(bnn_path,\"bnn_BNWG_flag.csv\"))\n",
    "bmdn_broad = pd.read_csv(os.path.join(bnn_path,\"bnn_BWG_flag.csv\"))\n",
    "\n",
    "# FlexCoDE\n",
    "flex_all = pd.read_csv(os.path.join(flex_path,\"test_z_broad+GALEX+WISE+narrow+flags.csv\"))\n",
    "flex_broad = pd.read_csv(os.path.join(flex_path,\"test_z_broad+GALEX+WISE+flags.csv\"))\n",
    "\n",
    "# Test set\n",
    "test = pd.read_csv(os.path.join(validation_path,\"test.csv\"), index_col=\"index\")"
   ]
  },
  {
   "cell_type": "code",
   "execution_count": 13,
   "metadata": {},
   "outputs": [
    {
     "name": "stdout",
     "output_type": "stream",
     "text": [
      "RMSE 0.409 0.409\n",
      "NMAD 0.0889 0.0889\n",
      "bias 0.0021 0.0021\n",
      "n15 0.2186 0.2186\n",
      "n30 0.0649 0.0649\n"
     ]
    }
   ],
   "source": [
    "print_metrics(rf_all, xval=False)"
   ]
  },
  {
   "cell_type": "code",
   "execution_count": 14,
   "metadata": {},
   "outputs": [
    {
     "name": "stdout",
     "output_type": "stream",
     "text": [
      "RMSE 0.4227 0.4227\n",
      "NMAD 0.1003 0.1003\n",
      "bias -0.0024 -0.0024\n",
      "n15 0.2245 0.2245\n",
      "n30 0.0683 0.0683\n"
     ]
    }
   ],
   "source": [
    "print_metrics(rf_broad, xval=False)"
   ]
  },
  {
   "cell_type": "code",
   "execution_count": 25,
   "metadata": {},
   "outputs": [
    {
     "name": "stdout",
     "output_type": "stream",
     "text": [
      "RMSE 0.4955 0.4955\n",
      "NMAD nan nan\n",
      "bias 0.0251 0.0251\n",
      "n15 0.162 0.162\n",
      "n30 0.0985 0.0985\n"
     ]
    }
   ],
   "source": [
    "print_metrics_test(test.Z, flex_all.z_flex_peak)"
   ]
  },
  {
   "cell_type": "code",
   "execution_count": null,
   "metadata": {},
   "outputs": [],
   "source": []
  }
 ],
 "metadata": {
  "kernelspec": {
   "display_name": "research",
   "language": "python",
   "name": "python3"
  },
  "language_info": {
   "codemirror_mode": {
    "name": "ipython",
    "version": 3
   },
   "file_extension": ".py",
   "mimetype": "text/x-python",
   "name": "python",
   "nbconvert_exporter": "python",
   "pygments_lexer": "ipython3",
   "version": "3.9.2"
  }
 },
 "nbformat": 4,
 "nbformat_minor": 2
}
