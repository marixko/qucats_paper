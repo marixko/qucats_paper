{
 "cells": [
  {
   "cell_type": "code",
   "execution_count": 1,
   "metadata": {},
   "outputs": [],
   "source": [
    "%load_ext autoreload\n",
    "%autoreload 2\n",
    "\n",
    "import warnings\n",
    "warnings.filterwarnings('ignore', category=Warning)\n",
    "import os\n",
    "import sys\n",
    "from pathlib import Path\n",
    "import numpy as np\n",
    "import pandas as pd\n",
    "import matplotlib.pyplot as plt\n",
    "\n",
    "if str(Path.cwd().parent.parent) not in sys.path:\n",
    "    sys.path.append(str(Path.cwd().parent.parent))\n",
    "\n",
    "from utils.metrics import nmad, bias, rmse, out_frac as outf\n",
    "from settings.columns import broad, narrow, wise, galex, list_feat, create_colors, create_ratio\n",
    "from settings.paths import bmdn_path"
   ]
  },
  {
   "cell_type": "code",
   "execution_count": 2,
   "metadata": {},
   "outputs": [],
   "source": [
    "dr3 = 'iDR3n4_DR16Q_GALEX2_unWISE2-ren.csv'\n",
    "dr4 = 'STRIPE82_DR4_DR16Q1a_unWISE2a_GALEXDR672a.csv'\n",
    "mags = ['broad', 'narrow', 'wise', 'galex']\n",
    "configs = {'mag': False, 'col': True, 'rat': False}\n",
    "feats = ['FUVmag', 'NUVmag', 'u_PStotal', 'J0378_PStotal', 'J0395_PStotal',\n",
    "         'J0410_PStotal', 'J0430_PStotal', 'g_PStotal', 'J0515_PStotal', 'r_PStotal',\n",
    "         'J0660_PStotal', 'i_PStotal', 'J0861_PStotal', 'z_PStotal', 'W1_MAG', 'W2_MAG']"
   ]
  },
  {
   "cell_type": "code",
   "execution_count": 3,
   "metadata": {},
   "outputs": [],
   "source": [
    "def print_results(model_path, return_df=False, specz='z', photoz='zphot'):\n",
    "    df = pd.read_csv(os.path.join(bmdn_path, model_path, 'Results_DF.csv'))\n",
    "    cond = ((df[specz] >= 0) & (df[specz] <= 5))\n",
    "    z = df[specz][cond]\n",
    "    zml = df[photoz][cond]\n",
    "    r = 4\n",
    "    print('nmad', round(nmad(z, zml), r))\n",
    "    print('rmse', round(rmse(z, zml), r))\n",
    "    print('bias', round(bias(z, zml), r))\n",
    "    print('outf0.15', round(outf(z, zml, 0.15), r))\n",
    "    print('outf0.30', round(outf(z, zml, 0.30), r))\n",
    "    print('median odds', round(np.median(df['Odds']), r))\n",
    "    print('median pit', round(np.median(df['PIT']), r))\n",
    "    print('median crps', round(np.median(df['CRPS']), r))\n",
    "    if return_df: return df\n",
    "    return"
   ]
  },
  {
   "cell_type": "markdown",
   "metadata": {},
   "source": [
    "### Model tests ###"
   ]
  },
  {
   "cell_type": "code",
   "execution_count": 4,
   "metadata": {},
   "outputs": [
    {
     "name": "stdout",
     "output_type": "stream",
     "text": [
      "nmad 0.0544\n",
      "rmse 0.454\n",
      "bias 0.0216\n",
      "outf0.15 0.2072\n",
      "outf0.30 0.0753\n",
      "median odds 0.6809\n",
      "median pit 0.5237\n",
      "median crps 0.0745\n"
     ]
    }
   ],
   "source": [
    "print_results('crossval_model_dr3_newfeatorder')"
   ]
  },
  {
   "cell_type": "code",
   "execution_count": 5,
   "metadata": {},
   "outputs": [
    {
     "name": "stdout",
     "output_type": "stream",
     "text": [
      "nmad 0.0468\n",
      "rmse 0.4211\n",
      "bias 0.0033\n",
      "outf0.15 0.1889\n",
      "outf0.30 0.0661\n",
      "median odds 0.6967\n",
      "median pit 0.5066\n",
      "median crps 0.0679\n"
     ]
    }
   ],
   "source": [
    "base = print_results('crossval_model_dr4_BNWG', True)"
   ]
  },
  {
   "cell_type": "code",
   "execution_count": 6,
   "metadata": {},
   "outputs": [
    {
     "name": "stdout",
     "output_type": "stream",
     "text": [
      "nmad 0.0487\n",
      "rmse 0.4242\n",
      "bias 0.0145\n",
      "outf0.15 0.1882\n",
      "outf0.30 0.0655\n",
      "median odds 0.695\n",
      "median pit 0.5164\n",
      "median crps 0.0686\n"
     ]
    }
   ],
   "source": [
    "linux = print_results('crossval_model_dr4_BNWG_linux', True)"
   ]
  },
  {
   "cell_type": "code",
   "execution_count": 7,
   "metadata": {},
   "outputs": [
    {
     "name": "stdout",
     "output_type": "stream",
     "text": [
      "nmad 0.0481\n",
      "rmse 0.4282\n",
      "bias 0.0199\n",
      "outf0.15 0.1879\n",
      "outf0.30 0.0658\n",
      "median odds 0.7017\n",
      "median pit 0.5374\n",
      "median crps 0.067\n"
     ]
    }
   ],
   "source": [
    "print_results('crossval_model_dr4_BNWG_flag')"
   ]
  },
  {
   "cell_type": "code",
   "execution_count": 8,
   "metadata": {},
   "outputs": [
    {
     "name": "stdout",
     "output_type": "stream",
     "text": [
      "nmad 0.0829\n",
      "rmse 0.4479\n",
      "bias 0.0154\n",
      "outf0.15 0.2049\n",
      "outf0.30 0.0724\n",
      "median odds 0.448\n",
      "median pit 0.4948\n",
      "median crps 0.1074\n"
     ]
    }
   ],
   "source": [
    "print_results('crossval_model_dr4_BWG')"
   ]
  },
  {
   "cell_type": "code",
   "execution_count": 9,
   "metadata": {},
   "outputs": [
    {
     "name": "stdout",
     "output_type": "stream",
     "text": [
      "nmad 0.0834\n",
      "rmse 0.4537\n",
      "bias 0.0141\n",
      "outf0.15 0.2124\n",
      "outf0.30 0.0757\n",
      "median odds 0.4365\n",
      "median pit 0.484\n",
      "median crps 0.1078\n"
     ]
    }
   ],
   "source": [
    "print_results('crossval_model_dr4_BWG_linux')"
   ]
  },
  {
   "cell_type": "code",
   "execution_count": 20,
   "metadata": {},
   "outputs": [
    {
     "name": "stdout",
     "output_type": "stream",
     "text": [
      "nmad 0.0825\n",
      "rmse 0.4592\n",
      "bias 0.0365\n",
      "outf0.15 0.2072\n",
      "outf0.30 0.0764\n",
      "median odds 0.4479\n",
      "median pit 0.5122\n",
      "median crps 0.1102\n"
     ]
    }
   ],
   "source": [
    "print_results('crossval_model_dr4_BWG_flag')"
   ]
  },
  {
   "cell_type": "markdown",
   "metadata": {},
   "source": [
    "### Other tests ###"
   ]
  },
  {
   "cell_type": "code",
   "execution_count": 56,
   "metadata": {},
   "outputs": [
    {
     "name": "stdout",
     "output_type": "stream",
     "text": [
      "['u_PStotal', 'g_PStotal', 'r_PStotal', 'i_PStotal', 'z_PStotal', 'W1', 'W2', 'u_PStotal-r_PStotal', 'g_PStotal-r_PStotal', 'r_PStotal-i_PStotal', 'r_PStotal-z_PStotal', 'r_PStotal-W1', 'r_PStotal-W2']\n"
     ]
    }
   ],
   "source": [
    "mags = ['broad', 'wise']\n",
    "configs = {'mag': True, 'col': True, 'rat': False}\n",
    "aper = 'PStotal'\n",
    "\n",
    "# Defining features    \n",
    "feature_list = []\n",
    "broad_bool_check = 'broad' in mags\n",
    "narrow_bool_check = 'narrow' in mags\n",
    "wise_bool_check = 'wise' in mags\n",
    "galex_bool_check = 'galex' in mags\n",
    "\n",
    "if configs['mag']:\n",
    "    feature_list += list_feat(aper, broad_bool_check, narrow_bool_check, wise_bool_check, galex_bool_check)\n",
    "\n",
    "if configs['col']:\n",
    "    feature_list += create_colors(broad_bool_check, narrow_bool_check, wise_bool_check, galex_bool_check, aper)\n",
    "    \n",
    "if configs['rat']:\n",
    "    feature_list += create_ratio(broad_bool_check, narrow_bool_check, wise_bool_check, galex_bool_check, aper)\n",
    "\n",
    "print(feature_list)"
   ]
  },
  {
   "cell_type": "code",
   "execution_count": 57,
   "metadata": {},
   "outputs": [
    {
     "name": "stdout",
     "output_type": "stream",
     "text": [
      "True\n",
      "True\n",
      "True\n",
      "True\n",
      "True\n",
      "True\n",
      "True\n"
     ]
    }
   ],
   "source": [
    "features = feature_list\n",
    "\n",
    "magnitudes = [feat for feat in features if ('-' not in feat) and ('/' not in feat)]\n",
    "colors = [feat for feat in features if ('-' in feat)]\n",
    "ratios = [feat for feat in features if ('/' in feat)]\n",
    "\n",
    "broad_bool, narrow_bool, wise_bool, galex_bool = False, False, False, False\n",
    "mag = any(magnitudes)\n",
    "col = any(colors)\n",
    "rat = any(ratios)\n",
    "\n",
    "check_pair = lambda x: x[0] if x[1]=='r_PStotal' else x[1]\n",
    "\n",
    "if mag: aux_list = magnitudes\n",
    "elif col: aux_list = [check_pair(feat.split('-')) for feat in features]\n",
    "elif rat: aux_list = [check_pair(feat.split('/')) for feat in features]\n",
    "\n",
    "broad_bool = broad[0] in aux_list\n",
    "narrow_bool = narrow[0] in aux_list\n",
    "wise_bool = wise[0] in aux_list\n",
    "galex_bool = galex[0] in aux_list"
   ]
  },
  {
   "cell_type": "code",
   "execution_count": 42,
   "metadata": {},
   "outputs": [
    {
     "data": {
      "text/plain": [
       "(True, False, False, False)"
      ]
     },
     "execution_count": 42,
     "metadata": {},
     "output_type": "execute_result"
    }
   ],
   "source": [
    "broad_bool, narrow_bool, wise_bool, galex_bool"
   ]
  },
  {
   "cell_type": "code",
   "execution_count": 4,
   "metadata": {},
   "outputs": [
    {
     "name": "stdout",
     "output_type": "stream",
     "text": [
      "nmad 0.0319\n",
      "rmse 0.4079\n",
      "bias -0.0354\n",
      "outf0.15 0.1716\n",
      "outf0.30 0.0743\n"
     ]
    }
   ],
   "source": [
    "df = pd.read_csv(\n",
    "    'D:/Documentos/qucats_paper/results/validation/bnn/crossval_model_dr4_BNWG/dataframe.csv')  # equals to results/prediction/bnn/input.dataframe.csv\n",
    "df_pred = pd.read_csv(\n",
    "    'D:/Documentos/qucats_paper/results/prediction/bnn/output/dataframe.csv')\n",
    "cond = ((df['Z'] >= 0) & (df['Z'] <= 5))\n",
    "z = df['Z'][cond]\n",
    "zml = df_pred['z_bmdn_peak'][cond]\n",
    "r = 4\n",
    "\n",
    "print('nmad', round(nmad(z, zml), r))\n",
    "print('rmse', round(rmse(z, zml), r))\n",
    "print('bias', round(bias(z, zml), r))\n",
    "print('outf0.15', round(outf(z, zml, 0.15), r))\n",
    "print('outf0.30', round(outf(z, zml, 0.30), r))\n",
    "# print('median odds', round(np.median(df['Odds']), r))\n",
    "# print('median pit', round(np.median(df['PIT']), r))\n",
    "# print('median crps', round(np.median(df['CRPS']), r))"
   ]
  },
  {
   "cell_type": "code",
   "execution_count": null,
   "metadata": {},
   "outputs": [],
   "source": []
  }
 ],
 "metadata": {
  "kernelspec": {
   "display_name": "bnn",
   "language": "python",
   "name": "python3"
  },
  "language_info": {
   "codemirror_mode": {
    "name": "ipython",
    "version": 3
   },
   "file_extension": ".py",
   "mimetype": "text/x-python",
   "name": "python",
   "nbconvert_exporter": "python",
   "pygments_lexer": "ipython3",
   "version": "3.7.16"
  }
 },
 "nbformat": 4,
 "nbformat_minor": 2
}
