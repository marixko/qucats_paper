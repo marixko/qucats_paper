{
 "cells": [
  {
   "cell_type": "code",
   "execution_count": 8,
   "metadata": {},
   "outputs": [
    {
     "name": "stdout",
     "output_type": "stream",
     "text": [
      "The autoreload extension is already loaded. To reload it, use:\n",
      "  %reload_ext autoreload\n"
     ]
    }
   ],
   "source": [
    "%load_ext autoreload\n",
    "%autoreload 2\n",
    "\n",
    "import os\n",
    "import sys\n",
    "from pathlib import Path\n",
    "import numpy as np\n",
    "import pandas as pd\n",
    "import matplotlib.pyplot as plt\n",
    "\n",
    "if str(Path.cwd().parent) not in sys.path:\n",
    "    sys.path.append(str(Path.cwd().parent))\n",
    "if str(Path.cwd().parent.parent) not in sys.path:\n",
    "    sys.path.append(str(Path.cwd().parent.parent))\n",
    "if str(Path.cwd().parent.parent.parent) not in sys.path:\n",
    "    sys.path.append(str(Path.cwd().parent.parent.parent))\n",
    "\n",
    "from model.preprocessing import Process_Split\n",
    "from utils.metrics import nmad, bias, rmse, out_frac as outf\n",
    "from settings.columns import *"
   ]
  },
  {
   "cell_type": "code",
   "execution_count": 9,
   "metadata": {},
   "outputs": [],
   "source": [
    "dr3 = 'iDR3n4_DR16Q_GALEX2_unWISE2-ren.csv'\n",
    "dr4 = 'STRIPE82_DR4_DR16Q1a_unWISE2a_GALEXDR672a.csv'\n",
    "mags = ['broad', 'narrow', 'wise', 'galex']\n",
    "configs = {'mag': False, 'col': True, 'rat': False}\n",
    "feats = ['FUVmag', 'NUVmag', 'u_PStotal', 'J0378_PStotal', 'J0395_PStotal',\n",
    "         'J0410_PStotal', 'J0430_PStotal', 'g_PStotal', 'J0515_PStotal', 'r_PStotal',\n",
    "         'J0660_PStotal', 'i_PStotal', 'J0861_PStotal', 'z_PStotal', 'W1_MAG', 'W2_MAG']"
   ]
  },
  {
   "cell_type": "markdown",
   "metadata": {},
   "source": [
    "### Model tests ###"
   ]
  },
  {
   "cell_type": "code",
   "execution_count": 3,
   "metadata": {},
   "outputs": [
    {
     "name": "stdout",
     "output_type": "stream",
     "text": [
      "nmad 0.052\n",
      "rmse 0.4463\n",
      "bias 0.0132\n",
      "outf0.15 0.2051\n",
      "outf0.30 0.074\n",
      "median odds 0.6648\n",
      "median pit 0.5017\n",
      "median crps 0.0735\n"
     ]
    }
   ],
   "source": [
    "df = pd.read_csv(\n",
    "    'D:/Documentos/qucats_paper/results/validation/bnn/crossval_model_masktest/Results_DF.csv')\n",
    "cond = ((df['z'] >= 0) & (df['z'] <= 5))\n",
    "z = df['z'][cond]\n",
    "zml = df['zphot'][cond]\n",
    "r = 4\n",
    "    \n",
    "print('nmad', round(nmad(z, zml), r))\n",
    "print('rmse', round(rmse(z, zml), r))\n",
    "print('bias', round(bias(z, zml), r))\n",
    "print('outf0.15', round(outf(z, zml, 0.15), r))\n",
    "print('outf0.30', round(outf(z, zml, 0.30), r))\n",
    "print('median odds', round(np.median(df['Odds']), r))\n",
    "print('median pit', round(np.median(df['PIT']), r))\n",
    "print('median crps', round(np.median(df['CRPS']), r))"
   ]
  },
  {
   "cell_type": "code",
   "execution_count": 19,
   "metadata": {},
   "outputs": [
    {
     "name": "stdout",
     "output_type": "stream",
     "text": [
      "nmad 0.052\n",
      "rmse 0.4463\n",
      "bias 0.0132\n",
      "outf0.15 0.2051\n",
      "outf0.30 0.074\n",
      "median odds 0.6648\n",
      "median pit 0.5017\n",
      "median crps 0.0735\n"
     ]
    }
   ],
   "source": [
    "df5 = pd.read_csv(\n",
    "    'D:/Documentos/qucats_paper/results/validation/bnn/crossval_model_preptest8/Results_DF.csv')\n",
    "cond = ((df5['z'] >= 0) & (df5['z'] <= 5))\n",
    "z = df5['z'][cond]\n",
    "zml = df5['zphot'][cond]\n",
    "r = 4\n",
    "\n",
    "print('nmad', round(nmad(z, zml), r))\n",
    "print('rmse', round(rmse(z, zml), r))\n",
    "print('bias', round(bias(z, zml), r))\n",
    "print('outf0.15', round(outf(z, zml, 0.15), r))\n",
    "print('outf0.30', round(outf(z, zml, 0.30), r))\n",
    "print('median odds', round(np.median(df5['Odds']), r))\n",
    "print('median pit', round(np.median(df5['PIT']), r))\n",
    "print('median crps', round(np.median(df5['CRPS']), r))"
   ]
  },
  {
   "cell_type": "code",
   "execution_count": null,
   "metadata": {},
   "outputs": [],
   "source": [
    "train_sample, test_sample, feature_list, scaler_1, scaler_2, train_mask, test_mask \\\n",
    "    = Process_Split(dr3, mags, configs, 0.25, 47, '', save_df=False)"
   ]
  },
  {
   "cell_type": "markdown",
   "metadata": {},
   "source": [
    "### To-do ##"
   ]
  },
  {
   "cell_type": "markdown",
   "metadata": {},
   "source": [
    "preprocesing.py: testar com DR3 (se precisar mudar mini-coisas pra ajustar com DR3)\n",
    "- mudar como as magnitudes são escolhidas (usar list_feat de columns.py)\n",
    "- mudar como calcular colors e ratios (usar funções de columns.py)\n",
    "\n",
    "preprocesing.py: DR4\n",
    "- incluir prep_wise\n",
    "1) tirar \"data[mag][~data[mag].between(10, 50)] = np.nan\"\n",
    "2) trocar \"data[mag].fillna(data[error], inplace=True)\" para substituição dos 99\n",
    "\n",
    "** lembrar de voltar WX_MAG para WX em columns.py e correct_extinction.py\n",
    "\n",
    "main.py: DR4\n",
    "- adicionar loop para rodar modelo em todas as combinações de \"mags\""
   ]
  },
  {
   "cell_type": "markdown",
   "metadata": {},
   "source": [
    "### Other tests ###"
   ]
  },
  {
   "cell_type": "code",
   "execution_count": null,
   "metadata": {},
   "outputs": [],
   "source": []
  }
 ],
 "metadata": {
  "kernelspec": {
   "display_name": "bnn",
   "language": "python",
   "name": "python3"
  },
  "language_info": {
   "codemirror_mode": {
    "name": "ipython",
    "version": 3
   },
   "file_extension": ".py",
   "mimetype": "text/x-python",
   "name": "python",
   "nbconvert_exporter": "python",
   "pygments_lexer": "ipython3",
   "version": "3.7.16"
  }
 },
 "nbformat": 4,
 "nbformat_minor": 2
}
