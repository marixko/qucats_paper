{
 "cells": [
  {
   "cell_type": "code",
   "execution_count": 1,
   "metadata": {},
   "outputs": [],
   "source": [
    "%load_ext autoreload\n",
    "%autoreload 2\n",
    "\n",
    "import os\n",
    "import sys\n",
    "from pathlib import Path\n",
    "import numpy as np\n",
    "import pandas as pd\n",
    "import matplotlib.pyplot as plt\n",
    "\n",
    "if str(Path.cwd().parent) not in sys.path:\n",
    "    sys.path.append(str(Path.cwd().parent))\n",
    "if str(Path.cwd().parent.parent) not in sys.path:\n",
    "    sys.path.append(str(Path.cwd().parent.parent))\n",
    "if str(Path.cwd().parent.parent.parent) not in sys.path:\n",
    "    sys.path.append(str(Path.cwd().parent.parent.parent))\n",
    "\n",
    "from misc.preprocessing import Process_Split\n",
    "from utils.metrics import nmad, bias, rmse, out_frac as outf\n",
    "from settings.columns import *"
   ]
  },
  {
   "cell_type": "code",
   "execution_count": 2,
   "metadata": {},
   "outputs": [],
   "source": [
    "dr3 = 'iDR3n4_DR16Q_GALEX2_unWISE2-ren.csv'\n",
    "dr4 = 'STRIPE82_DR4_DR16Q1a_unWISE2a_GALEXDR672a.csv'\n",
    "mags = ['broad', 'narrow', 'wise', 'galex']\n",
    "configs = {'mag': False, 'col': True, 'rat': False}\n",
    "feats = ['FUVmag', 'NUVmag', 'u_PStotal', 'J0378_PStotal', 'J0395_PStotal',\n",
    "         'J0410_PStotal', 'J0430_PStotal', 'g_PStotal', 'J0515_PStotal', 'r_PStotal',\n",
    "         'J0660_PStotal', 'i_PStotal', 'J0861_PStotal', 'z_PStotal', 'W1_MAG', 'W2_MAG']"
   ]
  },
  {
   "cell_type": "markdown",
   "metadata": {},
   "source": [
    "### Model tests ###"
   ]
  },
  {
   "cell_type": "code",
   "execution_count": 29,
   "metadata": {},
   "outputs": [
    {
     "name": "stdout",
     "output_type": "stream",
     "text": [
      "nmad 0.0544\n",
      "rmse 0.454\n",
      "bias 0.0216\n",
      "outf0.15 0.2072\n",
      "outf0.30 0.0753\n",
      "median odds 0.6809\n",
      "median pit 0.5237\n",
      "median crps 0.0745\n"
     ]
    }
   ],
   "source": [
    "df = pd.read_csv(\n",
    "    'D:/Documentos/qucats_paper/results/validation/bnn/crossval_model_feat_order/Results_DF.csv')\n",
    "cond = ((df['z'] >= 0) & (df['z'] <= 5))\n",
    "z = df['z'][cond]\n",
    "zml = df['zphot'][cond]\n",
    "r = 4\n",
    "    \n",
    "print('nmad', round(nmad(z, zml), r))\n",
    "print('rmse', round(rmse(z, zml), r))\n",
    "print('bias', round(bias(z, zml), r))\n",
    "print('outf0.15', round(outf(z, zml, 0.15), r))\n",
    "print('outf0.30', round(outf(z, zml, 0.30), r))\n",
    "print('median odds', round(np.median(df['Odds']), r))\n",
    "print('median pit', round(np.median(df['PIT']), r))\n",
    "print('median crps', round(np.median(df['CRPS']), r))"
   ]
  },
  {
   "cell_type": "code",
   "execution_count": 53,
   "metadata": {},
   "outputs": [
    {
     "name": "stdout",
     "output_type": "stream",
     "text": [
      "nmad 0.0476\n",
      "rmse 0.4313\n",
      "bias -0.0034\n",
      "outf0.15 0.1903\n",
      "outf0.30 0.07\n",
      "median odds 0.6886\n",
      "median pit 0.4845\n",
      "median crps 0.0691\n"
     ]
    }
   ],
   "source": [
    "df2 = pd.read_csv(\n",
    "    'D:/Documentos/qucats_paper/results/validation/bnn/crossval_model_dr4_BNWG/Results_DF.csv')\n",
    "cond = ((df2['z'] >= 0) & (df2['z'] <= 5))\n",
    "z = df2['z'][cond]\n",
    "zml = df2['zphot'][cond]\n",
    "r = 4\n",
    "\n",
    "print('nmad', round(nmad(z, zml), r))\n",
    "print('rmse', round(rmse(z, zml), r))\n",
    "print('bias', round(bias(z, zml), r))\n",
    "print('outf0.15', round(outf(z, zml, 0.15), r))\n",
    "print('outf0.30', round(outf(z, zml, 0.30), r))\n",
    "print('median odds', round(np.median(df2['Odds']), r))\n",
    "print('median pit', round(np.median(df2['PIT']), r))\n",
    "print('median crps', round(np.median(df2['CRPS']), r))"
   ]
  },
  {
   "cell_type": "code",
   "execution_count": 16,
   "metadata": {},
   "outputs": [
    {
     "name": "stdout",
     "output_type": "stream",
     "text": [
      "nmad 0.0504\n",
      "rmse 0.4407\n",
      "bias 0.0159\n",
      "outf0.15 0.1915\n",
      "outf0.30 0.0717\n",
      "median odds 0.6798\n",
      "median pit 0.5282\n",
      "median crps 0.0712\n"
     ]
    }
   ],
   "source": [
    "df4 = pd.read_csv(\n",
    "    'D:/Documentos/qucats_paper/results/validation/bnn/crossval_model_dr4_BNWG_flag/Results_DF.csv')\n",
    "cond = ((df4['z'] >= 0) & (df4['z'] <= 5))\n",
    "z = df4['z'][cond]\n",
    "zml = df4['zphot'][cond]\n",
    "r = 4\n",
    "\n",
    "print('nmad', round(nmad(z, zml), r))\n",
    "print('rmse', round(rmse(z, zml), r))\n",
    "print('bias', round(bias(z, zml), r))\n",
    "print('outf0.15', round(outf(z, zml, 0.15), r))\n",
    "print('outf0.30', round(outf(z, zml, 0.30), r))\n",
    "print('median odds', round(np.median(df4['Odds']), r))\n",
    "print('median pit', round(np.median(df4['PIT']), r))\n",
    "print('median crps', round(np.median(df4['CRPS']), r))"
   ]
  },
  {
   "cell_type": "code",
   "execution_count": 55,
   "metadata": {},
   "outputs": [
    {
     "name": "stdout",
     "output_type": "stream",
     "text": [
      "nmad 0.0863\n",
      "rmse 0.4734\n",
      "bias 0.0302\n",
      "outf0.15 0.2194\n",
      "outf0.30 0.0799\n",
      "median odds 0.4394\n",
      "median pit 0.4935\n",
      "median crps 0.1092\n"
     ]
    }
   ],
   "source": [
    "df3 = pd.read_csv(\n",
    "    'D:/Documentos/qucats_paper/results/validation/bnn/crossval_model_dr4_BWG/Results_DF.csv')\n",
    "cond = ((df3['z'] >= 0) & (df3['z'] <= 5))\n",
    "z = df3['z'][cond]\n",
    "zml = df3['zphot'][cond]\n",
    "r = 4\n",
    "\n",
    "print('nmad', round(nmad(z, zml), r))\n",
    "print('rmse', round(rmse(z, zml), r))\n",
    "print('bias', round(bias(z, zml), r))\n",
    "print('outf0.15', round(outf(z, zml, 0.15), r))\n",
    "print('outf0.30', round(outf(z, zml, 0.30), r))\n",
    "print('median odds', round(np.median(df3['Odds']), r))\n",
    "print('median pit', round(np.median(df3['PIT']), r))\n",
    "print('median crps', round(np.median(df3['CRPS']), r))"
   ]
  },
  {
   "cell_type": "code",
   "execution_count": 17,
   "metadata": {},
   "outputs": [
    {
     "name": "stdout",
     "output_type": "stream",
     "text": [
      "nmad 0.0843\n",
      "rmse 0.4789\n",
      "bias 0.0212\n",
      "outf0.15 0.2168\n",
      "outf0.30 0.0784\n",
      "median odds 0.4365\n",
      "median pit 0.4774\n",
      "median crps 0.1094\n"
     ]
    }
   ],
   "source": [
    "df5 = pd.read_csv(\n",
    "    'D:/Documentos/qucats_paper/results/validation/bnn/crossval_model_dr4_BWG_flag/Results_DF.csv')\n",
    "cond = ((df5['z'] >= 0) & (df5['z'] <= 5))\n",
    "z = df5['z'][cond]\n",
    "zml = df5['zphot'][cond]\n",
    "r = 4\n",
    "\n",
    "print('nmad', round(nmad(z, zml), r))\n",
    "print('rmse', round(rmse(z, zml), r))\n",
    "print('bias', round(bias(z, zml), r))\n",
    "print('outf0.15', round(outf(z, zml, 0.15), r))\n",
    "print('outf0.30', round(outf(z, zml, 0.30), r))\n",
    "print('median odds', round(np.median(df5['Odds']), r))\n",
    "print('median pit', round(np.median(df5['PIT']), r))\n",
    "print('median crps', round(np.median(df5['CRPS']), r))"
   ]
  },
  {
   "cell_type": "markdown",
   "metadata": {},
   "source": [
    "### To-do ##"
   ]
  },
  {
   "cell_type": "markdown",
   "metadata": {},
   "source": [
    "main.py: DR4\n",
    "- adicionar loop para rodar modelo em todas as combinações de \"mags\"\n",
    "\n",
    "training.py:\n",
    "- calcular mesma loss do FlexCoDE"
   ]
  },
  {
   "cell_type": "markdown",
   "metadata": {},
   "source": [
    "### Other tests ###"
   ]
  },
  {
   "cell_type": "code",
   "execution_count": 6,
   "metadata": {},
   "outputs": [
    {
     "name": "stdout",
     "output_type": "stream",
     "text": [
      "# 17 Features:\n",
      "['u_PStotal-r_PStotal', 'g_PStotal-r_PStotal', 'r_PStotal-i_PStotal', 'r_PStotal-z_PStotal', 'J0378_PStotal-r_PStotal', 'J0395_PStotal-r_PStotal', 'J0410_PStotal-r_PStotal', 'J0430_PStotal-r_PStotal', 'J0515_PStotal-r_PStotal', 'r_PStotal-J0660_PStotal', 'r_PStotal-J0861_PStotal', 'r_PStotal-W1', 'r_PStotal-W2', 'FUVmag-r_PStotal', 'NUVmag-r_PStotal', 'flag_WISE', 'flag_GALEX']\n",
      "# Dataframe Size: 33151\n",
      "# Train Size:     24863\n",
      "# Test Size:      8288\n"
     ]
    },
    {
     "name": "stderr",
     "output_type": "stream",
     "text": [
      "d:\\Programas\\anaconda3\\envs\\bnn\\lib\\site-packages\\numpy\\lib\\histograms.py:839: RuntimeWarning: invalid value encountered in greater_equal\n",
      "  keep = (tmp_a >= first_edge)\n",
      "d:\\Programas\\anaconda3\\envs\\bnn\\lib\\site-packages\\numpy\\lib\\histograms.py:840: RuntimeWarning: invalid value encountered in less_equal\n",
      "  keep &= (tmp_a <= last_edge)\n",
      "d:\\Programas\\anaconda3\\envs\\bnn\\lib\\site-packages\\numpy\\lib\\histograms.py:839: RuntimeWarning: invalid value encountered in greater_equal\n",
      "  keep = (tmp_a >= first_edge)\n",
      "d:\\Programas\\anaconda3\\envs\\bnn\\lib\\site-packages\\numpy\\lib\\histograms.py:840: RuntimeWarning: invalid value encountered in less_equal\n",
      "  keep &= (tmp_a <= last_edge)\n",
      "d:\\Programas\\anaconda3\\envs\\bnn\\lib\\site-packages\\numpy\\lib\\histograms.py:839: RuntimeWarning: invalid value encountered in greater_equal\n",
      "  keep = (tmp_a >= first_edge)\n",
      "d:\\Programas\\anaconda3\\envs\\bnn\\lib\\site-packages\\numpy\\lib\\histograms.py:840: RuntimeWarning: invalid value encountered in less_equal\n",
      "  keep &= (tmp_a <= last_edge)\n",
      "d:\\Programas\\anaconda3\\envs\\bnn\\lib\\site-packages\\numpy\\lib\\histograms.py:839: RuntimeWarning: invalid value encountered in greater_equal\n",
      "  keep = (tmp_a >= first_edge)\n",
      "d:\\Programas\\anaconda3\\envs\\bnn\\lib\\site-packages\\numpy\\lib\\histograms.py:840: RuntimeWarning: invalid value encountered in less_equal\n",
      "  keep &= (tmp_a <= last_edge)\n"
     ]
    }
   ],
   "source": [
    "train_sample, test_sample, feature_list, scaler_1, scaler_2, train_mask, test_mask \\\n",
    "    = Process_Split(dr4, mags, configs, 0.25, 47, 'D:/Documentos/qucats_paper/codes/validation/BNN/misc', save_stuff=True)"
   ]
  },
  {
   "cell_type": "code",
   "execution_count": 15,
   "metadata": {},
   "outputs": [
    {
     "name": "stderr",
     "output_type": "stream",
     "text": [
      "d:\\Programas\\anaconda3\\envs\\bnn\\lib\\site-packages\\sklearn\\base.py:451: UserWarning: X does not have valid feature names, but QuantileTransformer was fitted with feature names\n",
      "  \"X does not have valid feature names, but\"\n"
     ]
    },
    {
     "data": {
      "text/plain": [
       "array([[0.44835935, 0.49192556, 0.51446491, 0.54526628, 0.45663887,\n",
       "        0.47418101, 0.47059991, 0.4710975 , 0.50886582, 0.463503  ,\n",
       "        0.59033523, 0.65475295, 0.68637432, 0.39113757, 0.42649881,\n",
       "        0.        , 0.        ],\n",
       "       [0.57909659, 0.62122691, 0.59435804, 0.63492293, 0.57833637,\n",
       "        0.59750544, 0.5766047 , 0.54434242, 0.54546446, 0.55684001,\n",
       "        0.60530737, 0.63755328, 0.62801483, 0.        , 0.        ,\n",
       "        0.        , 1.        ],\n",
       "       [0.37388546, 0.46048851, 0.56859937, 0.37459226, 0.3052027 ,\n",
       "        0.40294148, 0.47999356, 0.40740738, 0.37403401, 0.50381008,\n",
       "        0.51463877, 0.44121511, 0.42264253, 0.        , 0.        ,\n",
       "        0.        , 1.        ]])"
      ]
     },
     "execution_count": 15,
     "metadata": {},
     "output_type": "execute_result"
    }
   ],
   "source": [
    "Training_Data_Features = scaler_2.transform(scaler_1.transform(train_sample[feature_list].values))\n",
    "Training_Data_Features[train_mask] = 0\n",
    "Training_Data_Features[0:3]"
   ]
  },
  {
   "cell_type": "code",
   "execution_count": null,
   "metadata": {},
   "outputs": [],
   "source": []
  }
 ],
 "metadata": {
  "kernelspec": {
   "display_name": "bnn",
   "language": "python",
   "name": "python3"
  },
  "language_info": {
   "codemirror_mode": {
    "name": "ipython",
    "version": 3
   },
   "file_extension": ".py",
   "mimetype": "text/x-python",
   "name": "python",
   "nbconvert_exporter": "python",
   "pygments_lexer": "ipython3",
   "version": "3.7.16"
  }
 },
 "nbformat": 4,
 "nbformat_minor": 2
}
